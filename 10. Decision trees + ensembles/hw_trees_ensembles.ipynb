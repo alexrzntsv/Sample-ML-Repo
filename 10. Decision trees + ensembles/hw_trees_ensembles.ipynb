{
 "cells": [
  {
   "cell_type": "markdown",
   "metadata": {
    "id": "EADmNKm_ucFI"
   },
   "source": [
    "## Homework"
   ]
  },
  {
   "cell_type": "code",
   "execution_count": 1,
   "metadata": {},
   "outputs": [],
   "source": [
    "import pandas as pd\n",
    "import numpy as np\n",
    "from sklearn.tree import DecisionTreeRegressor\n",
    "from sklearn.ensemble import RandomForestRegressor\n",
    "from sklearn.model_selection import train_test_split, cross_val_score\n",
    "from sklearn import tree, metrics, model_selection\n",
    "import matplotlib.pyplot as plt\n",
    "from collections import Counter\n",
    "import matplotlib.pyplot as plt"
   ]
  },
  {
   "cell_type": "code",
   "execution_count": 13,
   "metadata": {
    "id": "wjurpt4KJmCh"
   },
   "outputs": [
    {
     "name": "stderr",
     "output_type": "stream",
     "text": [
      "\"wget\" ­Ґ пў«пҐвбп ў­гваҐ­­Ґ© Ё«Ё ў­Ґи­Ґ©\n",
      "Є®¬ ­¤®©, ЁбЇ®«­пҐ¬®© Їа®Ја ¬¬®© Ё«Ё Ї ЄҐв­л¬ д ©«®¬.\n",
      "\"id\" ­Ґ пў«пҐвбп ў­гваҐ­­Ґ© Ё«Ё ў­Ґи­Ґ©\n",
      "Є®¬ ­¤®©, ЁбЇ®«­пҐ¬®© Їа®Ја ¬¬®© Ё«Ё Ї ЄҐв­л¬ д ©«®¬.\n"
     ]
    }
   ],
   "source": [
    "!wget --no-check-certificate 'https://docs.google.com/uc?export=download&id=1OKFSv2GpuUFDphO0r8LdM7bl6MAWwBfX' -O data.csv"
   ]
  },
  {
   "cell_type": "code",
   "execution_count": 14,
   "metadata": {},
   "outputs": [
    {
     "name": "stdout",
     "output_type": "stream",
     "text": [
      "100% [........................................................................] 33322228 / 33322228"
     ]
    },
    {
     "data": {
      "text/plain": [
       "'data (1).csv'"
      ]
     },
     "execution_count": 14,
     "metadata": {},
     "output_type": "execute_result"
    }
   ],
   "source": [
    "import wget\n",
    "url = 'https://docs.google.com/uc?export=download&id=1OKFSv2GpuUFDphO0r8LdM7bl6MAWwBfX'\n",
    "\n",
    "wget.download(url, 'data.csv')"
   ]
  },
  {
   "cell_type": "markdown",
   "metadata": {
    "id": "UBAI5LS2xBSm"
   },
   "source": [
    "В этой домашней работе вы будете предсказывать стоимость домов по их характеристикам.\n",
    "\n",
    "Метрика качества: `RMSE`\n",
    "\n",
    "Оценивание:\n",
    "* Baseline - 2 балла\n",
    "* Feature Engineering - 2 балла\n",
    "* Model Selection - 3 балла\n",
    "* Ensemble v.1 - 3 балла\n",
    "* (*) Ensemble v.2 - дополнительно, 2 балла"
   ]
  },
  {
   "cell_type": "markdown",
   "metadata": {
    "id": "aBZhr_dw6HAn"
   },
   "source": [
    "### Описание датасета\n",
    "\n",
    "Короткое описание данных:\n",
    "```\n",
    "price: sale price (this is the target variable)\n",
    "id: transaction id\n",
    "timestamp: date of transaction\n",
    "full_sq: total area in square meters, including loggias, balconies and other non-residential areas\n",
    "life_sq: living area in square meters, excluding loggias, balconies and other non-residential areas\n",
    "floor: for apartments, floor of the building\n",
    "max_floor: number of floors in the building\n",
    "material: wall material\n",
    "build_year: year built\n",
    "num_room: number of living rooms\n",
    "kitch_sq: kitchen area\n",
    "state: apartment condition\n",
    "product_type: owner-occupier purchase or investment\n",
    "sub_area: name of the district\n",
    "\n",
    "The dataset also includes a collection of features about each property's surrounding neighbourhood, and some features that are constant across each sub area (known as a Raion). Most of the feature names are self explanatory, with the following notes. See below for a complete list.\n",
    "\n",
    "full_all: subarea population\n",
    "male_f, female_f: subarea population by gender\n",
    "young_*: population younger than working age\n",
    "work_*: working-age population\n",
    "ekder_*: retirement-age population\n",
    "n_m_{all|male|female}: population between n and m years old\n",
    "build_count_*: buildings in the subarea by construction type or year\n",
    "x_count_500: the number of x within 500m of the property\n",
    "x_part_500: the share of x within 500m of the property\n",
    "_sqm_: square meters\n",
    "cafe_count_d_price_p: number of cafes within d meters of the property that have an average bill under p RUB\n",
    "trc_: shopping malls\n",
    "prom_: industrial zones\n",
    "green_: green zones\n",
    "metro_: subway\n",
    "_avto_: distances by car\n",
    "mkad_: Moscow Circle Auto Road\n",
    "ttk_: Third Transport Ring\n",
    "sadovoe_: Garden Ring\n",
    "bulvar_ring_: Boulevard Ring\n",
    "kremlin_: City center\n",
    "zd_vokzaly_: Train station\n",
    "oil_chemistry_: Dirty industry\n",
    "ts_: Power plant\n",
    "```"
   ]
  },
  {
   "cell_type": "markdown",
   "metadata": {
    "id": "TOPtM_06uyqv"
   },
   "source": [
    "### Setup"
   ]
  },
  {
   "cell_type": "code",
   "execution_count": 2,
   "metadata": {
    "id": "-TLkVG3EwJzj"
   },
   "outputs": [
    {
     "data": {
      "text/html": [
       "<div>\n",
       "<style scoped>\n",
       "    .dataframe tbody tr th:only-of-type {\n",
       "        vertical-align: middle;\n",
       "    }\n",
       "\n",
       "    .dataframe tbody tr th {\n",
       "        vertical-align: top;\n",
       "    }\n",
       "\n",
       "    .dataframe thead th {\n",
       "        text-align: right;\n",
       "    }\n",
       "</style>\n",
       "<table border=\"1\" class=\"dataframe\">\n",
       "  <thead>\n",
       "    <tr style=\"text-align: right;\">\n",
       "      <th></th>\n",
       "      <th>id</th>\n",
       "      <th>timestamp</th>\n",
       "      <th>full_sq</th>\n",
       "      <th>life_sq</th>\n",
       "      <th>floor</th>\n",
       "      <th>max_floor</th>\n",
       "      <th>material</th>\n",
       "      <th>build_year</th>\n",
       "      <th>num_room</th>\n",
       "      <th>kitch_sq</th>\n",
       "      <th>...</th>\n",
       "      <th>cafe_count_5000_price_2500</th>\n",
       "      <th>cafe_count_5000_price_4000</th>\n",
       "      <th>cafe_count_5000_price_high</th>\n",
       "      <th>big_church_count_5000</th>\n",
       "      <th>church_count_5000</th>\n",
       "      <th>mosque_count_5000</th>\n",
       "      <th>leisure_count_5000</th>\n",
       "      <th>sport_count_5000</th>\n",
       "      <th>market_count_5000</th>\n",
       "      <th>price</th>\n",
       "    </tr>\n",
       "  </thead>\n",
       "  <tbody>\n",
       "    <tr>\n",
       "      <th>0</th>\n",
       "      <td>0</td>\n",
       "      <td>2014-12-26</td>\n",
       "      <td>1</td>\n",
       "      <td>1.0</td>\n",
       "      <td>1.0</td>\n",
       "      <td>1.0</td>\n",
       "      <td>1.0</td>\n",
       "      <td>1.0</td>\n",
       "      <td>1.0</td>\n",
       "      <td>1.0</td>\n",
       "      <td>...</td>\n",
       "      <td>36</td>\n",
       "      <td>7</td>\n",
       "      <td>2</td>\n",
       "      <td>15</td>\n",
       "      <td>33</td>\n",
       "      <td>1</td>\n",
       "      <td>12</td>\n",
       "      <td>75</td>\n",
       "      <td>10</td>\n",
       "      <td>15318960</td>\n",
       "    </tr>\n",
       "    <tr>\n",
       "      <th>1</th>\n",
       "      <td>1</td>\n",
       "      <td>2012-10-04</td>\n",
       "      <td>64</td>\n",
       "      <td>64.0</td>\n",
       "      <td>16.0</td>\n",
       "      <td>NaN</td>\n",
       "      <td>NaN</td>\n",
       "      <td>NaN</td>\n",
       "      <td>NaN</td>\n",
       "      <td>NaN</td>\n",
       "      <td>...</td>\n",
       "      <td>2</td>\n",
       "      <td>2</td>\n",
       "      <td>0</td>\n",
       "      <td>0</td>\n",
       "      <td>13</td>\n",
       "      <td>1</td>\n",
       "      <td>0</td>\n",
       "      <td>6</td>\n",
       "      <td>1</td>\n",
       "      <td>6080000</td>\n",
       "    </tr>\n",
       "    <tr>\n",
       "      <th>2</th>\n",
       "      <td>2</td>\n",
       "      <td>2014-02-05</td>\n",
       "      <td>83</td>\n",
       "      <td>44.0</td>\n",
       "      <td>9.0</td>\n",
       "      <td>17.0</td>\n",
       "      <td>1.0</td>\n",
       "      <td>1985.0</td>\n",
       "      <td>3.0</td>\n",
       "      <td>10.0</td>\n",
       "      <td>...</td>\n",
       "      <td>13</td>\n",
       "      <td>6</td>\n",
       "      <td>1</td>\n",
       "      <td>8</td>\n",
       "      <td>18</td>\n",
       "      <td>0</td>\n",
       "      <td>1</td>\n",
       "      <td>52</td>\n",
       "      <td>0</td>\n",
       "      <td>17000000</td>\n",
       "    </tr>\n",
       "    <tr>\n",
       "      <th>3</th>\n",
       "      <td>3</td>\n",
       "      <td>2012-07-26</td>\n",
       "      <td>71</td>\n",
       "      <td>49.0</td>\n",
       "      <td>2.0</td>\n",
       "      <td>NaN</td>\n",
       "      <td>NaN</td>\n",
       "      <td>NaN</td>\n",
       "      <td>NaN</td>\n",
       "      <td>NaN</td>\n",
       "      <td>...</td>\n",
       "      <td>0</td>\n",
       "      <td>0</td>\n",
       "      <td>0</td>\n",
       "      <td>1</td>\n",
       "      <td>3</td>\n",
       "      <td>0</td>\n",
       "      <td>2</td>\n",
       "      <td>8</td>\n",
       "      <td>2</td>\n",
       "      <td>990000</td>\n",
       "    </tr>\n",
       "    <tr>\n",
       "      <th>4</th>\n",
       "      <td>4</td>\n",
       "      <td>2014-10-29</td>\n",
       "      <td>60</td>\n",
       "      <td>42.0</td>\n",
       "      <td>9.0</td>\n",
       "      <td>9.0</td>\n",
       "      <td>1.0</td>\n",
       "      <td>1970.0</td>\n",
       "      <td>3.0</td>\n",
       "      <td>6.0</td>\n",
       "      <td>...</td>\n",
       "      <td>3</td>\n",
       "      <td>1</td>\n",
       "      <td>0</td>\n",
       "      <td>5</td>\n",
       "      <td>8</td>\n",
       "      <td>0</td>\n",
       "      <td>1</td>\n",
       "      <td>34</td>\n",
       "      <td>5</td>\n",
       "      <td>7900000</td>\n",
       "    </tr>\n",
       "  </tbody>\n",
       "</table>\n",
       "<p>5 rows × 292 columns</p>\n",
       "</div>"
      ],
      "text/plain": [
       "   id  timestamp  full_sq  life_sq  floor  max_floor  material  build_year  \\\n",
       "0   0 2014-12-26        1      1.0    1.0        1.0       1.0         1.0   \n",
       "1   1 2012-10-04       64     64.0   16.0        NaN       NaN         NaN   \n",
       "2   2 2014-02-05       83     44.0    9.0       17.0       1.0      1985.0   \n",
       "3   3 2012-07-26       71     49.0    2.0        NaN       NaN         NaN   \n",
       "4   4 2014-10-29       60     42.0    9.0        9.0       1.0      1970.0   \n",
       "\n",
       "   num_room  kitch_sq  ...  cafe_count_5000_price_2500  \\\n",
       "0       1.0       1.0  ...                          36   \n",
       "1       NaN       NaN  ...                           2   \n",
       "2       3.0      10.0  ...                          13   \n",
       "3       NaN       NaN  ...                           0   \n",
       "4       3.0       6.0  ...                           3   \n",
       "\n",
       "  cafe_count_5000_price_4000 cafe_count_5000_price_high  \\\n",
       "0                          7                          2   \n",
       "1                          2                          0   \n",
       "2                          6                          1   \n",
       "3                          0                          0   \n",
       "4                          1                          0   \n",
       "\n",
       "   big_church_count_5000  church_count_5000  mosque_count_5000  \\\n",
       "0                     15                 33                  1   \n",
       "1                      0                 13                  1   \n",
       "2                      8                 18                  0   \n",
       "3                      1                  3                  0   \n",
       "4                      5                  8                  0   \n",
       "\n",
       "   leisure_count_5000  sport_count_5000  market_count_5000     price  \n",
       "0                  12                75                 10  15318960  \n",
       "1                   0                 6                  1   6080000  \n",
       "2                   1                52                  0  17000000  \n",
       "3                   2                 8                  2    990000  \n",
       "4                   1                34                  5   7900000  \n",
       "\n",
       "[5 rows x 292 columns]"
      ]
     },
     "execution_count": 2,
     "metadata": {},
     "output_type": "execute_result"
    }
   ],
   "source": [
    "df = pd.read_csv(\"data.csv\", parse_dates=[\"timestamp\"])\n",
    "df.head()"
   ]
  },
  {
   "cell_type": "code",
   "execution_count": 3,
   "metadata": {},
   "outputs": [
    {
     "data": {
      "text/plain": [
       "(20000, 292)"
      ]
     },
     "execution_count": 3,
     "metadata": {},
     "output_type": "execute_result"
    }
   ],
   "source": [
    "df.shape"
   ]
  },
  {
   "cell_type": "markdown",
   "metadata": {},
   "source": [
    "Посмотрим какие колонки содержат пропущенные значения и долю Nan в них:"
   ]
  },
  {
   "cell_type": "code",
   "execution_count": 4,
   "metadata": {},
   "outputs": [
    {
     "data": {
      "text/plain": [
       "life_sq                                  20.515\n",
       "floor                                     0.565\n",
       "max_floor                                31.515\n",
       "material                                 31.515\n",
       "build_year                               44.525\n",
       "num_room                                 31.515\n",
       "kitch_sq                                 31.515\n",
       "state                                    44.535\n",
       "preschool_quota                          21.395\n",
       "school_quota                             21.385\n",
       "hospital_beds_raion                      47.020\n",
       "raion_build_count_with_material_info     15.875\n",
       "build_count_block                        15.875\n",
       "build_count_wood                         15.875\n",
       "build_count_frame                        15.875\n",
       "build_count_brick                        15.875\n",
       "build_count_monolith                     15.875\n",
       "build_count_panel                        15.875\n",
       "build_count_foam                         15.875\n",
       "build_count_slag                         15.875\n",
       "build_count_mix                          15.875\n",
       "raion_build_count_with_builddate_info    15.875\n",
       "build_count_before_1920                  15.875\n",
       "build_count_1921-1945                    15.875\n",
       "build_count_1946-1970                    15.875\n",
       "build_count_1971-1995                    15.875\n",
       "build_count_after_1995                   15.875\n",
       "metro_min_walk                            0.080\n",
       "metro_km_walk                             0.080\n",
       "railroad_station_walk_km                  0.080\n",
       "railroad_station_walk_min                 0.080\n",
       "ID_railroad_station_walk                  0.080\n",
       "cafe_sum_500_min_price_avg               43.890\n",
       "cafe_sum_500_max_price_avg               43.890\n",
       "cafe_avg_price_500                       43.890\n",
       "cafe_sum_1000_min_price_avg              21.425\n",
       "cafe_sum_1000_max_price_avg              21.425\n",
       "cafe_avg_price_1000                      21.425\n",
       "cafe_sum_1500_min_price_avg              13.845\n",
       "cafe_sum_1500_max_price_avg              13.845\n",
       "cafe_avg_price_1500                      13.845\n",
       "cafe_sum_2000_min_price_avg               5.670\n",
       "cafe_sum_2000_max_price_avg               5.670\n",
       "cafe_avg_price_2000                       5.670\n",
       "cafe_sum_3000_min_price_avg               3.205\n",
       "cafe_sum_3000_max_price_avg               3.205\n",
       "cafe_avg_price_3000                       3.205\n",
       "prom_part_5000                            0.590\n",
       "cafe_sum_5000_min_price_avg               0.980\n",
       "cafe_sum_5000_max_price_avg               0.980\n",
       "cafe_avg_price_5000                       0.980\n",
       "dtype: float64"
      ]
     },
     "execution_count": 4,
     "metadata": {},
     "output_type": "execute_result"
    }
   ],
   "source": [
    "df.isna().sum()[df.isna().sum() !=0 ] / df.shape[0] * 100"
   ]
  },
  {
   "cell_type": "code",
   "execution_count": 5,
   "metadata": {},
   "outputs": [
    {
     "name": "stdout",
     "output_type": "stream",
     "text": [
      "17.47% признаков содержат Nan\n"
     ]
    }
   ],
   "source": [
    "print(f'{round(df.isna().sum()[df.isna().sum() !=0 ].count() / df.shape[1] * 100, 2)}% признаков содержат Nan')"
   ]
  },
  {
   "cell_type": "markdown",
   "metadata": {},
   "source": [
    "Заполним Nan значениями:"
   ]
  },
  {
   "cell_type": "code",
   "execution_count": 6,
   "metadata": {
    "id": "hwfNR565wMKN"
   },
   "outputs": [
    {
     "data": {
      "text/html": [
       "<div>\n",
       "<style scoped>\n",
       "    .dataframe tbody tr th:only-of-type {\n",
       "        vertical-align: middle;\n",
       "    }\n",
       "\n",
       "    .dataframe tbody tr th {\n",
       "        vertical-align: top;\n",
       "    }\n",
       "\n",
       "    .dataframe thead th {\n",
       "        text-align: right;\n",
       "    }\n",
       "</style>\n",
       "<table border=\"1\" class=\"dataframe\">\n",
       "  <thead>\n",
       "    <tr style=\"text-align: right;\">\n",
       "      <th></th>\n",
       "      <th>id</th>\n",
       "      <th>timestamp</th>\n",
       "      <th>full_sq</th>\n",
       "      <th>life_sq</th>\n",
       "      <th>floor</th>\n",
       "      <th>max_floor</th>\n",
       "      <th>material</th>\n",
       "      <th>build_year</th>\n",
       "      <th>num_room</th>\n",
       "      <th>kitch_sq</th>\n",
       "      <th>...</th>\n",
       "      <th>cafe_count_5000_price_2500</th>\n",
       "      <th>cafe_count_5000_price_4000</th>\n",
       "      <th>cafe_count_5000_price_high</th>\n",
       "      <th>big_church_count_5000</th>\n",
       "      <th>church_count_5000</th>\n",
       "      <th>mosque_count_5000</th>\n",
       "      <th>leisure_count_5000</th>\n",
       "      <th>sport_count_5000</th>\n",
       "      <th>market_count_5000</th>\n",
       "      <th>price</th>\n",
       "    </tr>\n",
       "  </thead>\n",
       "  <tbody>\n",
       "    <tr>\n",
       "      <th>0</th>\n",
       "      <td>0</td>\n",
       "      <td>2014-12-26</td>\n",
       "      <td>1</td>\n",
       "      <td>1.0</td>\n",
       "      <td>1.0</td>\n",
       "      <td>1.0</td>\n",
       "      <td>1.0</td>\n",
       "      <td>1.0</td>\n",
       "      <td>1.0</td>\n",
       "      <td>1.0</td>\n",
       "      <td>...</td>\n",
       "      <td>36</td>\n",
       "      <td>7</td>\n",
       "      <td>2</td>\n",
       "      <td>15</td>\n",
       "      <td>33</td>\n",
       "      <td>1</td>\n",
       "      <td>12</td>\n",
       "      <td>75</td>\n",
       "      <td>10</td>\n",
       "      <td>15318960</td>\n",
       "    </tr>\n",
       "    <tr>\n",
       "      <th>1</th>\n",
       "      <td>1</td>\n",
       "      <td>2012-10-04</td>\n",
       "      <td>64</td>\n",
       "      <td>64.0</td>\n",
       "      <td>16.0</td>\n",
       "      <td>12.0</td>\n",
       "      <td>1.0</td>\n",
       "      <td>2014.0</td>\n",
       "      <td>2.0</td>\n",
       "      <td>6.0</td>\n",
       "      <td>...</td>\n",
       "      <td>2</td>\n",
       "      <td>2</td>\n",
       "      <td>0</td>\n",
       "      <td>0</td>\n",
       "      <td>13</td>\n",
       "      <td>1</td>\n",
       "      <td>0</td>\n",
       "      <td>6</td>\n",
       "      <td>1</td>\n",
       "      <td>6080000</td>\n",
       "    </tr>\n",
       "    <tr>\n",
       "      <th>2</th>\n",
       "      <td>2</td>\n",
       "      <td>2014-02-05</td>\n",
       "      <td>83</td>\n",
       "      <td>44.0</td>\n",
       "      <td>9.0</td>\n",
       "      <td>17.0</td>\n",
       "      <td>1.0</td>\n",
       "      <td>1985.0</td>\n",
       "      <td>3.0</td>\n",
       "      <td>10.0</td>\n",
       "      <td>...</td>\n",
       "      <td>13</td>\n",
       "      <td>6</td>\n",
       "      <td>1</td>\n",
       "      <td>8</td>\n",
       "      <td>18</td>\n",
       "      <td>0</td>\n",
       "      <td>1</td>\n",
       "      <td>52</td>\n",
       "      <td>0</td>\n",
       "      <td>17000000</td>\n",
       "    </tr>\n",
       "    <tr>\n",
       "      <th>3</th>\n",
       "      <td>3</td>\n",
       "      <td>2012-07-26</td>\n",
       "      <td>71</td>\n",
       "      <td>49.0</td>\n",
       "      <td>2.0</td>\n",
       "      <td>12.0</td>\n",
       "      <td>1.0</td>\n",
       "      <td>2014.0</td>\n",
       "      <td>2.0</td>\n",
       "      <td>6.0</td>\n",
       "      <td>...</td>\n",
       "      <td>0</td>\n",
       "      <td>0</td>\n",
       "      <td>0</td>\n",
       "      <td>1</td>\n",
       "      <td>3</td>\n",
       "      <td>0</td>\n",
       "      <td>2</td>\n",
       "      <td>8</td>\n",
       "      <td>2</td>\n",
       "      <td>990000</td>\n",
       "    </tr>\n",
       "    <tr>\n",
       "      <th>4</th>\n",
       "      <td>4</td>\n",
       "      <td>2014-10-29</td>\n",
       "      <td>60</td>\n",
       "      <td>42.0</td>\n",
       "      <td>9.0</td>\n",
       "      <td>9.0</td>\n",
       "      <td>1.0</td>\n",
       "      <td>1970.0</td>\n",
       "      <td>3.0</td>\n",
       "      <td>6.0</td>\n",
       "      <td>...</td>\n",
       "      <td>3</td>\n",
       "      <td>1</td>\n",
       "      <td>0</td>\n",
       "      <td>5</td>\n",
       "      <td>8</td>\n",
       "      <td>0</td>\n",
       "      <td>1</td>\n",
       "      <td>34</td>\n",
       "      <td>5</td>\n",
       "      <td>7900000</td>\n",
       "    </tr>\n",
       "  </tbody>\n",
       "</table>\n",
       "<p>5 rows × 292 columns</p>\n",
       "</div>"
      ],
      "text/plain": [
       "   id  timestamp  full_sq  life_sq  floor  max_floor  material  build_year  \\\n",
       "0   0 2014-12-26        1      1.0    1.0        1.0       1.0         1.0   \n",
       "1   1 2012-10-04       64     64.0   16.0       12.0       1.0      2014.0   \n",
       "2   2 2014-02-05       83     44.0    9.0       17.0       1.0      1985.0   \n",
       "3   3 2012-07-26       71     49.0    2.0       12.0       1.0      2014.0   \n",
       "4   4 2014-10-29       60     42.0    9.0        9.0       1.0      1970.0   \n",
       "\n",
       "   num_room  kitch_sq  ...  cafe_count_5000_price_2500  \\\n",
       "0       1.0       1.0  ...                          36   \n",
       "1       2.0       6.0  ...                           2   \n",
       "2       3.0      10.0  ...                          13   \n",
       "3       2.0       6.0  ...                           0   \n",
       "4       3.0       6.0  ...                           3   \n",
       "\n",
       "  cafe_count_5000_price_4000 cafe_count_5000_price_high  \\\n",
       "0                          7                          2   \n",
       "1                          2                          0   \n",
       "2                          6                          1   \n",
       "3                          0                          0   \n",
       "4                          1                          0   \n",
       "\n",
       "   big_church_count_5000  church_count_5000  mosque_count_5000  \\\n",
       "0                     15                 33                  1   \n",
       "1                      0                 13                  1   \n",
       "2                      8                 18                  0   \n",
       "3                      1                  3                  0   \n",
       "4                      5                  8                  0   \n",
       "\n",
       "   leisure_count_5000  sport_count_5000  market_count_5000     price  \n",
       "0                  12                75                 10  15318960  \n",
       "1                   0                 6                  1   6080000  \n",
       "2                   1                52                  0  17000000  \n",
       "3                   2                 8                  2    990000  \n",
       "4                   1                34                  5   7900000  \n",
       "\n",
       "[5 rows x 292 columns]"
      ]
     },
     "execution_count": 6,
     "metadata": {},
     "output_type": "execute_result"
    }
   ],
   "source": [
    "# Получаем список колонок, в которых есть Nan\n",
    "nan_list = list((df.isna().sum()[df.isna().sum() !=0 ]).index)\n",
    "nan_dict = {}\n",
    "\n",
    "# Я заметил, что в колонке \"год постройки\" среднее значение = 3687 из-за того что некоторые значения записаны так \"20052009.0\"\n",
    "# Поэтому именно в этой колонке я беру моду\n",
    "for column in nan_list:\n",
    "    if column == 'build_year':\n",
    "        nan_dict[column] = df.mode()['build_year'][0]\n",
    "    else:\n",
    "        nan_dict[column] = df[column].median()\n",
    "df = df.fillna(nan_dict)\n",
    "df.head()"
   ]
  },
  {
   "cell_type": "markdown",
   "metadata": {
    "id": "pL4dJJwZP86w"
   },
   "source": [
    "Возможно в ваших моделях вам придется указывать, какие колонки являются категориальными (например, в бустингах). Для упрощения предлагается разделить колонки по следующему принципу:\n",
    "```\n",
    "drop_columns = [\n",
    "    'id',           # May leak information\n",
    "    'timestamp',    # May leak information\n",
    "]\n",
    "cat_columns = [\n",
    "    'product_type',              #\n",
    "    'material',                  # Material of the wall\n",
    "    'state',                     # Satisfaction level\n",
    "    'sub_area',                  # District name\n",
    "    'culture_objects_top_25',    #\n",
    "    'thermal_power_plant_raion', #\n",
    "    'incineration_raion',        #\n",
    "    'oil_chemistry_raion',       #\n",
    "    'radiation_raion',           #\n",
    "    'railroad_terminal_raion',   #\n",
    "    'big_market_raion',          #\n",
    "    'nuclear_reactor_raion',     #\n",
    "    'detention_facility_raion',  #\n",
    "    'ID_metro',                  #\n",
    "    'ID_railroad_station_walk',  #\n",
    "    'ID_railroad_station_avto',  #\n",
    "    'water_1line',               #\n",
    "    'ID_big_road1',              #\n",
    "    'big_road1_1line',           #\n",
    "    'ID_big_road2',              #\n",
    "    'railroad_1line',            #\n",
    "    'ID_railroad_terminal',      #\n",
    "    'ID_bus_terminal',           #\n",
    "    'ecology',                   #\n",
    "]\n",
    "num_columns = list(set(df.columns).difference(set(cat_columns + drop_columns)))\n",
    "```"
   ]
  },
  {
   "cell_type": "markdown",
   "metadata": {},
   "source": [
    "Преобразуем категориальные признаки:"
   ]
  },
  {
   "cell_type": "code",
   "execution_count": 7,
   "metadata": {},
   "outputs": [
    {
     "data": {
      "text/html": [
       "<div>\n",
       "<style scoped>\n",
       "    .dataframe tbody tr th:only-of-type {\n",
       "        vertical-align: middle;\n",
       "    }\n",
       "\n",
       "    .dataframe tbody tr th {\n",
       "        vertical-align: top;\n",
       "    }\n",
       "\n",
       "    .dataframe thead th {\n",
       "        text-align: right;\n",
       "    }\n",
       "</style>\n",
       "<table border=\"1\" class=\"dataframe\">\n",
       "  <thead>\n",
       "    <tr style=\"text-align: right;\">\n",
       "      <th></th>\n",
       "      <th>id</th>\n",
       "      <th>timestamp</th>\n",
       "      <th>full_sq</th>\n",
       "      <th>life_sq</th>\n",
       "      <th>floor</th>\n",
       "      <th>max_floor</th>\n",
       "      <th>build_year</th>\n",
       "      <th>num_room</th>\n",
       "      <th>kitch_sq</th>\n",
       "      <th>state</th>\n",
       "      <th>...</th>\n",
       "      <th>ID_bus_terminal_10</th>\n",
       "      <th>ID_bus_terminal_11</th>\n",
       "      <th>ID_bus_terminal_12</th>\n",
       "      <th>ID_bus_terminal_13</th>\n",
       "      <th>ID_bus_terminal_14</th>\n",
       "      <th>ecology_excellent</th>\n",
       "      <th>ecology_good</th>\n",
       "      <th>ecology_no data</th>\n",
       "      <th>ecology_poor</th>\n",
       "      <th>ecology_satisfactory</th>\n",
       "    </tr>\n",
       "  </thead>\n",
       "  <tbody>\n",
       "    <tr>\n",
       "      <th>0</th>\n",
       "      <td>0</td>\n",
       "      <td>2014-12-26</td>\n",
       "      <td>1</td>\n",
       "      <td>1.0</td>\n",
       "      <td>1.0</td>\n",
       "      <td>1.0</td>\n",
       "      <td>1.0</td>\n",
       "      <td>1.0</td>\n",
       "      <td>1.0</td>\n",
       "      <td>1.0</td>\n",
       "      <td>...</td>\n",
       "      <td>0</td>\n",
       "      <td>0</td>\n",
       "      <td>0</td>\n",
       "      <td>0</td>\n",
       "      <td>0</td>\n",
       "      <td>0</td>\n",
       "      <td>0</td>\n",
       "      <td>0</td>\n",
       "      <td>1</td>\n",
       "      <td>0</td>\n",
       "    </tr>\n",
       "    <tr>\n",
       "      <th>1</th>\n",
       "      <td>1</td>\n",
       "      <td>2012-10-04</td>\n",
       "      <td>64</td>\n",
       "      <td>64.0</td>\n",
       "      <td>16.0</td>\n",
       "      <td>12.0</td>\n",
       "      <td>2014.0</td>\n",
       "      <td>2.0</td>\n",
       "      <td>6.0</td>\n",
       "      <td>2.0</td>\n",
       "      <td>...</td>\n",
       "      <td>0</td>\n",
       "      <td>0</td>\n",
       "      <td>0</td>\n",
       "      <td>0</td>\n",
       "      <td>0</td>\n",
       "      <td>0</td>\n",
       "      <td>0</td>\n",
       "      <td>1</td>\n",
       "      <td>0</td>\n",
       "      <td>0</td>\n",
       "    </tr>\n",
       "    <tr>\n",
       "      <th>2</th>\n",
       "      <td>2</td>\n",
       "      <td>2014-02-05</td>\n",
       "      <td>83</td>\n",
       "      <td>44.0</td>\n",
       "      <td>9.0</td>\n",
       "      <td>17.0</td>\n",
       "      <td>1985.0</td>\n",
       "      <td>3.0</td>\n",
       "      <td>10.0</td>\n",
       "      <td>3.0</td>\n",
       "      <td>...</td>\n",
       "      <td>0</td>\n",
       "      <td>0</td>\n",
       "      <td>0</td>\n",
       "      <td>0</td>\n",
       "      <td>0</td>\n",
       "      <td>0</td>\n",
       "      <td>1</td>\n",
       "      <td>0</td>\n",
       "      <td>0</td>\n",
       "      <td>0</td>\n",
       "    </tr>\n",
       "    <tr>\n",
       "      <th>3</th>\n",
       "      <td>3</td>\n",
       "      <td>2012-07-26</td>\n",
       "      <td>71</td>\n",
       "      <td>49.0</td>\n",
       "      <td>2.0</td>\n",
       "      <td>12.0</td>\n",
       "      <td>2014.0</td>\n",
       "      <td>2.0</td>\n",
       "      <td>6.0</td>\n",
       "      <td>2.0</td>\n",
       "      <td>...</td>\n",
       "      <td>0</td>\n",
       "      <td>0</td>\n",
       "      <td>0</td>\n",
       "      <td>0</td>\n",
       "      <td>0</td>\n",
       "      <td>0</td>\n",
       "      <td>0</td>\n",
       "      <td>1</td>\n",
       "      <td>0</td>\n",
       "      <td>0</td>\n",
       "    </tr>\n",
       "    <tr>\n",
       "      <th>4</th>\n",
       "      <td>4</td>\n",
       "      <td>2014-10-29</td>\n",
       "      <td>60</td>\n",
       "      <td>42.0</td>\n",
       "      <td>9.0</td>\n",
       "      <td>9.0</td>\n",
       "      <td>1970.0</td>\n",
       "      <td>3.0</td>\n",
       "      <td>6.0</td>\n",
       "      <td>2.0</td>\n",
       "      <td>...</td>\n",
       "      <td>0</td>\n",
       "      <td>0</td>\n",
       "      <td>0</td>\n",
       "      <td>0</td>\n",
       "      <td>0</td>\n",
       "      <td>0</td>\n",
       "      <td>1</td>\n",
       "      <td>0</td>\n",
       "      <td>0</td>\n",
       "      <td>0</td>\n",
       "    </tr>\n",
       "  </tbody>\n",
       "</table>\n",
       "<p>5 rows × 1063 columns</p>\n",
       "</div>"
      ],
      "text/plain": [
       "   id  timestamp  full_sq  life_sq  floor  max_floor  build_year  num_room  \\\n",
       "0   0 2014-12-26        1      1.0    1.0        1.0         1.0       1.0   \n",
       "1   1 2012-10-04       64     64.0   16.0       12.0      2014.0       2.0   \n",
       "2   2 2014-02-05       83     44.0    9.0       17.0      1985.0       3.0   \n",
       "3   3 2012-07-26       71     49.0    2.0       12.0      2014.0       2.0   \n",
       "4   4 2014-10-29       60     42.0    9.0        9.0      1970.0       3.0   \n",
       "\n",
       "   kitch_sq  state  ...  ID_bus_terminal_10  ID_bus_terminal_11  \\\n",
       "0       1.0    1.0  ...                   0                   0   \n",
       "1       6.0    2.0  ...                   0                   0   \n",
       "2      10.0    3.0  ...                   0                   0   \n",
       "3       6.0    2.0  ...                   0                   0   \n",
       "4       6.0    2.0  ...                   0                   0   \n",
       "\n",
       "   ID_bus_terminal_12  ID_bus_terminal_13  ID_bus_terminal_14  \\\n",
       "0                   0                   0                   0   \n",
       "1                   0                   0                   0   \n",
       "2                   0                   0                   0   \n",
       "3                   0                   0                   0   \n",
       "4                   0                   0                   0   \n",
       "\n",
       "   ecology_excellent  ecology_good  ecology_no data  ecology_poor  \\\n",
       "0                  0             0                0             1   \n",
       "1                  0             0                1             0   \n",
       "2                  0             1                0             0   \n",
       "3                  0             0                1             0   \n",
       "4                  0             1                0             0   \n",
       "\n",
       "   ecology_satisfactory  \n",
       "0                     0  \n",
       "1                     0  \n",
       "2                     0  \n",
       "3                     0  \n",
       "4                     0  \n",
       "\n",
       "[5 rows x 1063 columns]"
      ]
     },
     "execution_count": 7,
     "metadata": {},
     "output_type": "execute_result"
    }
   ],
   "source": [
    "cat_columns = [\n",
    "    'product_type',              \n",
    "    'material',                                      \n",
    "    'sub_area',                  \n",
    "    'culture_objects_top_25',    \n",
    "    'thermal_power_plant_raion', \n",
    "    'incineration_raion',        \n",
    "    'oil_chemistry_raion',       \n",
    "    'radiation_raion',           \n",
    "    'railroad_terminal_raion',   \n",
    "    'big_market_raion',          \n",
    "    'nuclear_reactor_raion',     \n",
    "    'detention_facility_raion',  \n",
    "    'ID_metro',                  \n",
    "    'ID_railroad_station_walk',  \n",
    "    'ID_railroad_station_avto',  \n",
    "    'water_1line',               \n",
    "    'ID_big_road1',             \n",
    "    'big_road1_1line',           \n",
    "    'ID_big_road2',              \n",
    "    'railroad_1line',            \n",
    "    'ID_railroad_terminal',     \n",
    "    'ID_bus_terminal',          \n",
    "    'ecology' ] \n",
    "df = pd.get_dummies(df, columns=cat_columns)\n",
    "df.head()"
   ]
  },
  {
   "cell_type": "markdown",
   "metadata": {},
   "source": [
    "Разделите имеющиеся у вас данные на обучающую и тестовую выборки. В качестве обучающей выборки возьмите первые 80% данных, последние 20% - тестовая выборка."
   ]
  },
  {
   "cell_type": "code",
   "execution_count": 8,
   "metadata": {},
   "outputs": [],
   "source": [
    "drop_columns = ['id','timestamp']\n",
    "X = df.drop(columns=drop_columns + ['price'])\n",
    "y = df['price']\n",
    "\n",
    "# Так как train_test_split разбивает данные рандомно, я использовал срезы\n",
    "length = X.shape[0]\n",
    "\n",
    "X_train, X_test = X[:int(length*0.8+1)], X[int(length*0.8 + 1):] \n",
    "y_train, y_test =  y[:int(length*0.8+1)], y[int(length*0.8 + 1):] "
   ]
  },
  {
   "cell_type": "markdown",
   "metadata": {
    "id": "oiOby6hNu92W"
   },
   "source": [
    "### Baseline (2 балла)\n",
    "\n",
    "В качестве Baseline обучите `DecisionTreeRegressor` из `sklearn`."
   ]
  },
  {
   "cell_type": "code",
   "execution_count": 9,
   "metadata": {
    "id": "gJIDf3kn1Wfv"
   },
   "outputs": [
    {
     "data": {
      "text/plain": [
       "DecisionTreeRegressor(random_state=42)"
      ]
     },
     "execution_count": 9,
     "metadata": {},
     "output_type": "execute_result"
    }
   ],
   "source": [
    "clf = DecisionTreeRegressor(random_state=42)\n",
    "clf.fit(X_train, y_train)"
   ]
  },
  {
   "cell_type": "code",
   "execution_count": 10,
   "metadata": {},
   "outputs": [],
   "source": [
    "y_pred = clf.predict(X_test)"
   ]
  },
  {
   "cell_type": "markdown",
   "metadata": {
    "id": "XUC7NFhw1X41"
   },
   "source": [
    "Проверьте качество на отложенной выборке."
   ]
  },
  {
   "cell_type": "code",
   "execution_count": 11,
   "metadata": {
    "id": "O_LCiQIN1bzD"
   },
   "outputs": [
    {
     "name": "stdout",
     "output_type": "stream",
     "text": [
      "Среднеквадратическая ошибка (RMSE) на Baseline = 3838862 рублей\n"
     ]
    }
   ],
   "source": [
    "from sklearn.metrics import mean_squared_error\n",
    "rmse = mean_squared_error(y_test, y_pred, squared=False)\n",
    "print(f'Среднеквадратическая ошибка (RMSE) на Baseline = {round(rmse)} рублей') "
   ]
  },
  {
   "cell_type": "markdown",
   "metadata": {
    "id": "3bezBBI7u_oF"
   },
   "source": [
    "### Feature Engineering (2 балла)\n",
    "\n",
    "Часто улучшить модель можно с помощью аккуратного Feature Engineering.\n",
    "\n",
    "Добавим в модель дополнительные признаки:\n",
    "* \"Как часто в этот год и этот месяц появлились объявления\"\n",
    "* \"Как часто в этот год и эту неделю появлялись объявления\""
   ]
  },
  {
   "cell_type": "code",
   "execution_count": 12,
   "metadata": {
    "id": "_cJ6SBqUKC4C"
   },
   "outputs": [
    {
     "name": "stderr",
     "output_type": "stream",
     "text": [
      "C:\\Users\\alexe\\AppData\\Local\\Temp/ipykernel_7160/1267522124.py:5: FutureWarning: Series.dt.weekofyear and Series.dt.week have been deprecated.  Please use Series.dt.isocalendar().week instead.\n",
      "  week_year = (df.timestamp.dt.weekofyear + df.timestamp.dt.year * 100)\n"
     ]
    }
   ],
   "source": [
    "month_year = (df.timestamp.dt.month + df.timestamp.dt.year * 100)\n",
    "month_year_cnt_map = month_year.value_counts().to_dict()\n",
    "df[\"month_year_cnt\"] = month_year.map(month_year_cnt_map)\n",
    "\n",
    "week_year = (df.timestamp.dt.weekofyear + df.timestamp.dt.year * 100)\n",
    "week_year_cnt_map = week_year.value_counts().to_dict()\n",
    "df[\"week_year_cnt\"] = week_year.map(week_year_cnt_map)"
   ]
  },
  {
   "cell_type": "markdown",
   "metadata": {
    "id": "pCajk45_KDSz"
   },
   "source": [
    "Добавьте следюущие дополнительные признаки:\n",
    "* Месяц (из колонки `timestamp`)\n",
    "* День недели (из колонки `timestamp`)\n",
    "* Отношение \"этаж / максимальный этаж в здании\" (колонки `floor` и `max_floor`)\n",
    "* Отношение \"площадь кухни / площадь квартиры\" (колонки `kitchen_sq` и `full_sq`)\n",
    "\n",
    "По желанию можно добавить и другие признаки."
   ]
  },
  {
   "cell_type": "code",
   "execution_count": 13,
   "metadata": {
    "id": "dXZkoUL8Kve6"
   },
   "outputs": [
    {
     "data": {
      "text/html": [
       "<div>\n",
       "<style scoped>\n",
       "    .dataframe tbody tr th:only-of-type {\n",
       "        vertical-align: middle;\n",
       "    }\n",
       "\n",
       "    .dataframe tbody tr th {\n",
       "        vertical-align: top;\n",
       "    }\n",
       "\n",
       "    .dataframe thead th {\n",
       "        text-align: right;\n",
       "    }\n",
       "</style>\n",
       "<table border=\"1\" class=\"dataframe\">\n",
       "  <thead>\n",
       "    <tr style=\"text-align: right;\">\n",
       "      <th></th>\n",
       "      <th>id</th>\n",
       "      <th>timestamp</th>\n",
       "      <th>full_sq</th>\n",
       "      <th>life_sq</th>\n",
       "      <th>floor</th>\n",
       "      <th>max_floor</th>\n",
       "      <th>build_year</th>\n",
       "      <th>num_room</th>\n",
       "      <th>kitch_sq</th>\n",
       "      <th>state</th>\n",
       "      <th>...</th>\n",
       "      <th>ecology_poor</th>\n",
       "      <th>ecology_satisfactory</th>\n",
       "      <th>month_year_cnt</th>\n",
       "      <th>week_year_cnt</th>\n",
       "      <th>month</th>\n",
       "      <th>weekday</th>\n",
       "      <th>year</th>\n",
       "      <th>floor_part</th>\n",
       "      <th>kitchen_part</th>\n",
       "      <th>life_part</th>\n",
       "    </tr>\n",
       "  </thead>\n",
       "  <tbody>\n",
       "    <tr>\n",
       "      <th>0</th>\n",
       "      <td>0</td>\n",
       "      <td>2014-12-26</td>\n",
       "      <td>1</td>\n",
       "      <td>1.0</td>\n",
       "      <td>1.0</td>\n",
       "      <td>1.0</td>\n",
       "      <td>1.0</td>\n",
       "      <td>1.0</td>\n",
       "      <td>1.0</td>\n",
       "      <td>1.0</td>\n",
       "      <td>...</td>\n",
       "      <td>1</td>\n",
       "      <td>0</td>\n",
       "      <td>1122</td>\n",
       "      <td>112</td>\n",
       "      <td>12</td>\n",
       "      <td>4</td>\n",
       "      <td>2014</td>\n",
       "      <td>1.000000</td>\n",
       "      <td>1.000000</td>\n",
       "      <td>1.000000</td>\n",
       "    </tr>\n",
       "    <tr>\n",
       "      <th>1</th>\n",
       "      <td>1</td>\n",
       "      <td>2012-10-04</td>\n",
       "      <td>64</td>\n",
       "      <td>64.0</td>\n",
       "      <td>16.0</td>\n",
       "      <td>12.0</td>\n",
       "      <td>2014.0</td>\n",
       "      <td>2.0</td>\n",
       "      <td>6.0</td>\n",
       "      <td>2.0</td>\n",
       "      <td>...</td>\n",
       "      <td>0</td>\n",
       "      <td>0</td>\n",
       "      <td>327</td>\n",
       "      <td>68</td>\n",
       "      <td>10</td>\n",
       "      <td>3</td>\n",
       "      <td>2012</td>\n",
       "      <td>0.470588</td>\n",
       "      <td>0.093750</td>\n",
       "      <td>1.000000</td>\n",
       "    </tr>\n",
       "    <tr>\n",
       "      <th>2</th>\n",
       "      <td>2</td>\n",
       "      <td>2014-02-05</td>\n",
       "      <td>83</td>\n",
       "      <td>44.0</td>\n",
       "      <td>9.0</td>\n",
       "      <td>17.0</td>\n",
       "      <td>1985.0</td>\n",
       "      <td>3.0</td>\n",
       "      <td>10.0</td>\n",
       "      <td>3.0</td>\n",
       "      <td>...</td>\n",
       "      <td>0</td>\n",
       "      <td>0</td>\n",
       "      <td>752</td>\n",
       "      <td>192</td>\n",
       "      <td>2</td>\n",
       "      <td>2</td>\n",
       "      <td>2014</td>\n",
       "      <td>0.529412</td>\n",
       "      <td>0.120482</td>\n",
       "      <td>0.530120</td>\n",
       "    </tr>\n",
       "    <tr>\n",
       "      <th>3</th>\n",
       "      <td>3</td>\n",
       "      <td>2012-07-26</td>\n",
       "      <td>71</td>\n",
       "      <td>49.0</td>\n",
       "      <td>2.0</td>\n",
       "      <td>12.0</td>\n",
       "      <td>2014.0</td>\n",
       "      <td>2.0</td>\n",
       "      <td>6.0</td>\n",
       "      <td>2.0</td>\n",
       "      <td>...</td>\n",
       "      <td>0</td>\n",
       "      <td>0</td>\n",
       "      <td>262</td>\n",
       "      <td>69</td>\n",
       "      <td>7</td>\n",
       "      <td>3</td>\n",
       "      <td>2012</td>\n",
       "      <td>0.166667</td>\n",
       "      <td>0.084507</td>\n",
       "      <td>0.690141</td>\n",
       "    </tr>\n",
       "    <tr>\n",
       "      <th>4</th>\n",
       "      <td>4</td>\n",
       "      <td>2014-10-29</td>\n",
       "      <td>60</td>\n",
       "      <td>42.0</td>\n",
       "      <td>9.0</td>\n",
       "      <td>9.0</td>\n",
       "      <td>1970.0</td>\n",
       "      <td>3.0</td>\n",
       "      <td>6.0</td>\n",
       "      <td>2.0</td>\n",
       "      <td>...</td>\n",
       "      <td>0</td>\n",
       "      <td>0</td>\n",
       "      <td>711</td>\n",
       "      <td>214</td>\n",
       "      <td>10</td>\n",
       "      <td>2</td>\n",
       "      <td>2014</td>\n",
       "      <td>1.000000</td>\n",
       "      <td>0.100000</td>\n",
       "      <td>0.700000</td>\n",
       "    </tr>\n",
       "  </tbody>\n",
       "</table>\n",
       "<p>5 rows × 1071 columns</p>\n",
       "</div>"
      ],
      "text/plain": [
       "   id  timestamp  full_sq  life_sq  floor  max_floor  build_year  num_room  \\\n",
       "0   0 2014-12-26        1      1.0    1.0        1.0         1.0       1.0   \n",
       "1   1 2012-10-04       64     64.0   16.0       12.0      2014.0       2.0   \n",
       "2   2 2014-02-05       83     44.0    9.0       17.0      1985.0       3.0   \n",
       "3   3 2012-07-26       71     49.0    2.0       12.0      2014.0       2.0   \n",
       "4   4 2014-10-29       60     42.0    9.0        9.0      1970.0       3.0   \n",
       "\n",
       "   kitch_sq  state  ...  ecology_poor  ecology_satisfactory  month_year_cnt  \\\n",
       "0       1.0    1.0  ...             1                     0            1122   \n",
       "1       6.0    2.0  ...             0                     0             327   \n",
       "2      10.0    3.0  ...             0                     0             752   \n",
       "3       6.0    2.0  ...             0                     0             262   \n",
       "4       6.0    2.0  ...             0                     0             711   \n",
       "\n",
       "   week_year_cnt  month  weekday  year  floor_part  kitchen_part  life_part  \n",
       "0            112     12        4  2014    1.000000      1.000000   1.000000  \n",
       "1             68     10        3  2012    0.470588      0.093750   1.000000  \n",
       "2            192      2        2  2014    0.529412      0.120482   0.530120  \n",
       "3             69      7        3  2012    0.166667      0.084507   0.690141  \n",
       "4            214     10        2  2014    1.000000      0.100000   0.700000  \n",
       "\n",
       "[5 rows x 1071 columns]"
      ]
     },
     "execution_count": 13,
     "metadata": {},
     "output_type": "execute_result"
    }
   ],
   "source": [
    "df['month'] = df.timestamp.dt.month\n",
    "df['weekday'] = df.timestamp.dt.weekday\n",
    "df['year'] = df.timestamp.dt.year\n",
    "\n",
    "''' При таком решении:\n",
    "    df['floor_part'] = df['floor'] / df['max_floor']\n",
    "у меня появились строчки со значением > 1 (чего быть не должно) \n",
    "из-за того что Nan в колонке floor я заменил средним значением, а max_floor у таких домов судя по всему меншье чем mean(floor)\n",
    "Поэтому я решил заменить все значения > 1 медианным значением\n",
    "'''\n",
    "df['floor_part'] = np.where((df['floor'] / df['max_floor'] <= 1),df['floor'] / df['max_floor'] , 0.0)\n",
    "df['floor_part'] = df['floor_part'].replace(to_replace=0.0 ,value=df.floor_part[df.floor_part <= 1].median())\n",
    "\n",
    "df['kitchen_part'] = np.where((df['kitch_sq'] / df['full_sq'] <= 1), df['kitch_sq'] / df['full_sq'] , 0.0)\n",
    "df['kitchen_part'] = df['kitchen_part'].replace(to_replace=0.0 ,value=df.kitchen_part[df.kitchen_part <= 1].median())\n",
    "\n",
    "df['life_part'] = np.where((df['life_sq'] / df['full_sq'] <= 1), df['life_sq'] / df['full_sq'] , 0.0)\n",
    "df['life_part'] = df['life_part'].replace(to_replace=0.0 ,value=df.life_part[df.life_part <= 1].median())\n",
    "\n",
    "df.head()"
   ]
  },
  {
   "cell_type": "markdown",
   "metadata": {
    "id": "_-jCowvWLiXZ"
   },
   "source": [
    "Разделите выборку на обучающую и тестовую еще раз (потому что дополнительные признаки созданы для исходной выборки)."
   ]
  },
  {
   "cell_type": "code",
   "execution_count": 14,
   "metadata": {
    "id": "0f-vO3LcLhdf"
   },
   "outputs": [],
   "source": [
    "X = df.drop(columns=drop_columns + ['price'])\n",
    "y = df['price']\n",
    "\n",
    "# Так как train_test_split разбивает данные рандомно, я использовал срезы\n",
    "length = X.shape[0]\n",
    "\n",
    "X_train, X_test = X[:int(length*0.8+1)], X[int(length*0.8 + 1):] \n",
    "y_train, y_test =  y[:int(length*0.8+1)], y[int(length*0.8 + 1):] "
   ]
  },
  {
   "cell_type": "markdown",
   "metadata": {
    "id": "CPtzkpFEvBw9"
   },
   "source": [
    "### Model Selection (3 балла)\n",
    "\n",
    "Посмотрите, какого качества можно добиться если использовать разные модели:\n",
    "* `DecisionTreeRegressor` из `sklearn`\n",
    "* `RandomForestRegressor` из `sklearn`\n",
    "* `CatBoostRegressor`\n",
    "\n",
    "Также вы можете попробовать линейные модели, другие бустинги (`LigthGBM` и `XGBoost`).\n",
    "\n",
    "Почти все библиотеки поддерживают удобный способ подбора гиперпараметров: посмотрите как это делать в [sklearn](https://scikit-learn.org/stable/modules/generated/sklearn.model_selection.GridSearchCV.html) или в [catboost](https://catboost.ai/docs/concepts/python-reference_catboostregressor_grid_search.html).\n",
    "\n",
    "Проверяйте качество каждой модели на тестовой выборке и выберите наилучшую."
   ]
  },
  {
   "cell_type": "markdown",
   "metadata": {},
   "source": [
    "#### Результаты на трёх моделях без подбора гиперпараметров:"
   ]
  },
  {
   "cell_type": "code",
   "execution_count": 98,
   "metadata": {
    "id": "PZstXx6uNRfE"
   },
   "outputs": [
    {
     "name": "stdout",
     "output_type": "stream",
     "text": [
      "Среднеквадратическая ошибка (RMSE) на DecisionTreeRegressor  = 3746040 рублей\n",
      "Wall time: 7.42 s\n"
     ]
    }
   ],
   "source": [
    "%%time\n",
    "\n",
    "model_1 = DecisionTreeRegressor(random_state=42)\n",
    "model_1.fit(X_train, y_train)\n",
    "y_pred = model_1.predict(X_test)\n",
    "rmse_1 = mean_squared_error(y_test, y_pred, squared=False)\n",
    "print(f'Среднеквадратическая ошибка (RMSE) на DecisionTreeRegressor  = {round(rmse_1)} рублей') "
   ]
  },
  {
   "cell_type": "code",
   "execution_count": 200,
   "metadata": {},
   "outputs": [
    {
     "name": "stdout",
     "output_type": "stream",
     "text": [
      "Среднеквадратическая ошибка (RMSE) на RandomForestRegressor  = 2729923 рублей\n",
      "Wall time: 4min 47s\n"
     ]
    }
   ],
   "source": [
    "%%time\n",
    "\n",
    "model_2 = RandomForestRegressor(random_state=42, n_estimators=100)\n",
    "model_2.fit(X_train, y_train)\n",
    "y_pred = model_2.predict(X_test)\n",
    "rmse_2 = mean_squared_error(y_test, y_pred, squared=False)\n",
    "print(f'Среднеквадратическая ошибка (RMSE) на RandomForestRegressor  = {round(rmse_2)} рублей') "
   ]
  },
  {
   "cell_type": "code",
   "execution_count": 101,
   "metadata": {},
   "outputs": [
    {
     "name": "stdout",
     "output_type": "stream",
     "text": [
      "Среднеквадратическая ошибка (RMSE) на CatBoostRegressor  = 2589153 рублей\n",
      "Wall time: 4.43 s\n"
     ]
    }
   ],
   "source": [
    "%%time\n",
    "import catboost as cb\n",
    "\n",
    "model_3 = cb.CatBoostRegressor(n_estimators=100, verbose=False)\n",
    "model_3.fit(X_train, y_train)\n",
    "y_pred = model_3.predict(X_test)\n",
    "rmse_3 = mean_squared_error(y_test, y_pred, squared=False)\n",
    "print(f'Среднеквадратическая ошибка (RMSE) на CatBoostRegressor  = {round(rmse_3)} рублей') "
   ]
  },
  {
   "cell_type": "markdown",
   "metadata": {},
   "source": [
    "Вывод: при одинаковом количестве итераций результат у catBoostRegressor чуть лучше чем у randomForestRegressor (и намного лучше, чем у DecisionTreeRegressor), а вот скорость выполнения намного выше."
   ]
  },
  {
   "cell_type": "markdown",
   "metadata": {},
   "source": [
    "#### Подбор гиперпараметров:"
   ]
  },
  {
   "cell_type": "markdown",
   "metadata": {},
   "source": [
    "Выше можно увидеть, что один запуск RandomForestRegressor занимает примерно 4 минуты. Если подбирать на нём параметры, используя словарь описанный ниже, то уйдёт в лучшем случае столько времени:\n",
    "    "
   ]
  },
  {
   "cell_type": "markdown",
   "metadata": {},
   "source": [
    "(3 * 3 * 4 * 4 ) * 4 = 576 минут  "
   ]
  },
  {
   "cell_type": "markdown",
   "metadata": {},
   "source": [
    "Поэтому, так как CatBoostRegressor показал лучший результат без подбора параметров, я решил использовать gridsearch только для него"
   ]
  },
  {
   "cell_type": "code",
   "execution_count": 23,
   "metadata": {},
   "outputs": [],
   "source": [
    "grid = {'learning_rate': [0.03, 0.1, 0.3],\n",
    "        'depth': [4, 8, 12],\n",
    "        'l2_leaf_reg': [0.2, 0.5, 1, 3], \n",
    "        'n_estimators': [100, 200, 400, 600]}\n"
   ]
  },
  {
   "cell_type": "code",
   "execution_count": 24,
   "metadata": {},
   "outputs": [
    {
     "data": {
      "application/vnd.jupyter.widget-view+json": {
       "model_id": "e25b83a649a74817a5fe5e3b2c90e6bf",
       "version_major": 2,
       "version_minor": 0
      },
      "text/plain": [
       "MetricVisualizer(layout=Layout(align_self='stretch', height='500px'))"
      ]
     },
     "metadata": {},
     "output_type": "display_data"
    },
    {
     "name": "stdout",
     "output_type": "stream",
     "text": [
      "\n",
      "bestTest = 2977373.452\n",
      "bestIteration = 99\n",
      "\n",
      "\n",
      "bestTest = 2691799.115\n",
      "bestIteration = 99\n",
      "\n",
      "\n",
      "bestTest = 2705339.503\n",
      "bestIteration = 80\n",
      "\n",
      "\n",
      "bestTest = 2988810.865\n",
      "bestIteration = 99\n",
      "\n",
      "\n",
      "bestTest = 2671329.286\n",
      "bestIteration = 99\n",
      "\n",
      "\n",
      "bestTest = 2723295.185\n",
      "bestIteration = 99\n",
      "\n",
      "\n",
      "bestTest = 2980232.857\n",
      "bestIteration = 99\n",
      "\n",
      "\n",
      "bestTest = 2680627.544\n",
      "bestIteration = 99\n",
      "\n",
      "\n",
      "bestTest = 2665551.712\n",
      "bestIteration = 99\n",
      "\n",
      "\n",
      "bestTest = 2987891.809\n",
      "bestIteration = 99\n",
      "\n",
      "\n",
      "bestTest = 2736528.708\n",
      "bestIteration = 99\n",
      "\n",
      "\n",
      "bestTest = 2688873.389\n",
      "bestIteration = 99\n",
      "\n",
      "\n",
      "bestTest = 2770268.081\n",
      "bestIteration = 199\n",
      "\n",
      "\n",
      "bestTest = 2614037.527\n",
      "bestIteration = 199\n",
      "\n",
      "\n",
      "bestTest = 2705339.503\n",
      "bestIteration = 80\n",
      "\n",
      "\n",
      "bestTest = 2782576.945\n",
      "bestIteration = 199\n",
      "\n",
      "\n",
      "bestTest = 2578254.173\n",
      "bestIteration = 199\n",
      "\n",
      "\n",
      "bestTest = 2696248.236\n",
      "bestIteration = 173\n",
      "\n",
      "\n",
      "bestTest = 2790995.005\n",
      "bestIteration = 199\n",
      "\n",
      "\n",
      "bestTest = 2602214.798\n",
      "bestIteration = 198\n",
      "\n",
      "\n",
      "bestTest = 2640085.966\n",
      "bestIteration = 176\n",
      "\n",
      "\n",
      "bestTest = 2794184.794\n",
      "bestIteration = 199\n",
      "\n",
      "\n",
      "bestTest = 2667457.521\n",
      "bestIteration = 199\n",
      "\n",
      "\n",
      "bestTest = 2678086.81\n",
      "bestIteration = 133\n",
      "\n",
      "\n",
      "bestTest = 2655989.544\n",
      "bestIteration = 399\n",
      "\n",
      "\n",
      "bestTest = 2577547.903\n",
      "bestIteration = 392\n",
      "\n",
      "\n",
      "bestTest = 2705339.503\n",
      "bestIteration = 80\n",
      "\n",
      "\n",
      "bestTest = 2666604.36\n",
      "bestIteration = 399\n",
      "\n",
      "\n",
      "bestTest = 2550734.094\n",
      "bestIteration = 393\n",
      "\n",
      "\n",
      "bestTest = 2696248.236\n",
      "bestIteration = 173\n",
      "\n",
      "\n",
      "bestTest = 2662573.015\n",
      "bestIteration = 399\n",
      "\n",
      "\n",
      "bestTest = 2566469.589\n",
      "bestIteration = 385\n",
      "\n",
      "\n",
      "bestTest = 2640008.913\n",
      "bestIteration = 376\n",
      "\n",
      "\n",
      "bestTest = 2675528.337\n",
      "bestIteration = 395\n",
      "\n",
      "\n",
      "bestTest = 2618253.521\n",
      "bestIteration = 399\n",
      "\n",
      "\n",
      "bestTest = 2677957.904\n",
      "bestIteration = 226\n",
      "\n",
      "\n",
      "bestTest = 2611328.116\n",
      "bestIteration = 599\n",
      "\n",
      "\n",
      "bestTest = 2570411.045\n",
      "bestIteration = 553\n",
      "\n",
      "\n",
      "bestTest = 2705339.503\n",
      "bestIteration = 80\n",
      "\n",
      "\n",
      "bestTest = 2625668.456\n",
      "bestIteration = 599\n",
      "\n",
      "\n",
      "bestTest = 2540314.867\n",
      "bestIteration = 587\n",
      "\n",
      "\n",
      "bestTest = 2696248.236\n",
      "bestIteration = 173\n",
      "\n",
      "\n",
      "bestTest = 2621084.621\n",
      "bestIteration = 599\n",
      "\n",
      "\n",
      "bestTest = 2552092.874\n",
      "bestIteration = 598\n",
      "\n",
      "\n",
      "bestTest = 2640008.913\n",
      "bestIteration = 376\n",
      "\n",
      "\n",
      "bestTest = 2628812.799\n",
      "bestIteration = 599\n",
      "\n",
      "\n",
      "bestTest = 2600482.207\n",
      "bestIteration = 599\n",
      "\n",
      "\n",
      "bestTest = 2677957.904\n",
      "bestIteration = 226\n",
      "\n",
      "\n",
      "bestTest = 2837070.836\n",
      "bestIteration = 99\n",
      "\n",
      "\n",
      "bestTest = 2676639.646\n",
      "bestIteration = 99\n",
      "\n",
      "\n",
      "bestTest = 2695116.866\n",
      "bestIteration = 33\n",
      "\n",
      "\n",
      "bestTest = 2870548.26\n",
      "bestIteration = 99\n",
      "\n",
      "\n",
      "bestTest = 2648698.464\n",
      "bestIteration = 99\n",
      "\n",
      "\n",
      "bestTest = 2686540.642\n",
      "bestIteration = 99\n",
      "\n",
      "\n",
      "bestTest = 2871034.606\n",
      "bestIteration = 99\n",
      "\n",
      "\n",
      "bestTest = 2669619.434\n",
      "bestIteration = 97\n",
      "\n",
      "\n",
      "bestTest = 2736029.558\n",
      "bestIteration = 59\n",
      "\n",
      "\n",
      "bestTest = 2890636.347\n",
      "bestIteration = 99\n",
      "\n",
      "\n",
      "bestTest = 2708274.246\n",
      "bestIteration = 97\n",
      "\n",
      "\n",
      "bestTest = 2626175.154\n",
      "bestIteration = 80\n",
      "\n",
      "\n",
      "bestTest = 2677863.398\n",
      "bestIteration = 199\n",
      "\n",
      "\n",
      "bestTest = 2645975.163\n",
      "bestIteration = 184\n",
      "\n",
      "\n",
      "bestTest = 2695116.866\n",
      "bestIteration = 33\n",
      "\n",
      "\n",
      "bestTest = 2712448.603\n",
      "bestIteration = 199\n",
      "\n",
      "\n",
      "bestTest = 2621966.404\n",
      "bestIteration = 194\n",
      "\n",
      "\n",
      "bestTest = 2678017.154\n",
      "bestIteration = 124\n",
      "\n",
      "\n",
      "bestTest = 2697358.774\n",
      "bestIteration = 197\n",
      "\n",
      "\n",
      "bestTest = 2616166.887\n",
      "bestIteration = 196\n",
      "\n",
      "\n",
      "bestTest = 2736029.558\n",
      "bestIteration = 59\n",
      "\n",
      "\n",
      "bestTest = 2734728.344\n",
      "bestIteration = 199\n",
      "\n",
      "\n",
      "bestTest = 2632320.198\n",
      "bestIteration = 197\n",
      "\n",
      "\n",
      "bestTest = 2626175.154\n",
      "bestIteration = 80\n",
      "\n",
      "\n",
      "bestTest = 2613486.237\n",
      "bestIteration = 399\n",
      "\n",
      "\n",
      "bestTest = 2634061.638\n",
      "bestIteration = 347\n",
      "\n",
      "\n",
      "bestTest = 2695116.866\n",
      "bestIteration = 33\n",
      "\n",
      "\n",
      "bestTest = 2640853.798\n",
      "bestIteration = 399\n",
      "\n",
      "\n",
      "bestTest = 2615478.969\n",
      "bestIteration = 342\n",
      "\n",
      "\n",
      "bestTest = 2678017.154\n",
      "bestIteration = 124\n",
      "\n",
      "\n",
      "bestTest = 2622978.773\n",
      "bestIteration = 398\n",
      "\n",
      "\n",
      "bestTest = 2597948.5\n",
      "bestIteration = 368\n",
      "\n",
      "\n",
      "bestTest = 2736029.558\n",
      "bestIteration = 59\n",
      "\n",
      "\n",
      "bestTest = 2658127.562\n",
      "bestIteration = 399\n",
      "\n",
      "\n",
      "bestTest = 2617119.452\n",
      "bestIteration = 398\n",
      "\n",
      "\n",
      "bestTest = 2626175.154\n",
      "bestIteration = 80\n",
      "\n",
      "\n",
      "bestTest = 2588811.342\n",
      "bestIteration = 599\n",
      "\n",
      "\n",
      "bestTest = 2634061.638\n",
      "bestIteration = 347\n",
      "\n",
      "\n",
      "bestTest = 2695116.866\n",
      "bestIteration = 33\n",
      "\n",
      "\n",
      "bestTest = 2611851.59\n",
      "bestIteration = 599\n",
      "\n"
     ]
    },
    {
     "ename": "KeyboardInterrupt",
     "evalue": "",
     "output_type": "error",
     "traceback": [
      "\u001b[1;31m---------------------------------------------------------------------------\u001b[0m",
      "\u001b[1;31mKeyboardInterrupt\u001b[0m                         Traceback (most recent call last)",
      "\u001b[1;32m~\\AppData\\Local\\Temp/ipykernel_3800/4017932016.py\u001b[0m in \u001b[0;36m<module>\u001b[1;34m\u001b[0m\n\u001b[0;32m      1\u001b[0m \u001b[0mtuning_model\u001b[0m \u001b[1;33m=\u001b[0m \u001b[0mcb\u001b[0m\u001b[1;33m.\u001b[0m\u001b[0mCatBoostRegressor\u001b[0m\u001b[1;33m(\u001b[0m\u001b[0mverbose\u001b[0m\u001b[1;33m=\u001b[0m\u001b[1;32mFalse\u001b[0m\u001b[1;33m)\u001b[0m\u001b[1;33m\u001b[0m\u001b[1;33m\u001b[0m\u001b[0m\n\u001b[1;32m----> 2\u001b[1;33m grid_search_result = tuning_model.grid_search(grid,\n\u001b[0m\u001b[0;32m      3\u001b[0m                                        \u001b[0mX\u001b[0m\u001b[1;33m=\u001b[0m\u001b[0mX\u001b[0m\u001b[1;33m,\u001b[0m\u001b[1;33m\u001b[0m\u001b[1;33m\u001b[0m\u001b[0m\n\u001b[0;32m      4\u001b[0m                                        \u001b[0my\u001b[0m\u001b[1;33m=\u001b[0m\u001b[0my\u001b[0m\u001b[1;33m,\u001b[0m\u001b[1;33m\u001b[0m\u001b[1;33m\u001b[0m\u001b[0m\n\u001b[0;32m      5\u001b[0m                                        \u001b[0mplot\u001b[0m\u001b[1;33m=\u001b[0m\u001b[1;32mTrue\u001b[0m\u001b[1;33m,\u001b[0m\u001b[1;33m\u001b[0m\u001b[1;33m\u001b[0m\u001b[0m\n",
      "\u001b[1;32m~\\anaconda3\\lib\\site-packages\\catboost\\core.py\u001b[0m in \u001b[0;36mgrid_search\u001b[1;34m(self, param_grid, X, y, cv, partition_random_seed, calc_cv_statistics, search_by_train_test_split, refit, shuffle, stratified, train_size, verbose, plot, log_cout, log_cerr)\u001b[0m\n\u001b[0;32m   3926\u001b[0m                     \u001b[1;32mraise\u001b[0m \u001b[0mTypeError\u001b[0m\u001b[1;33m(\u001b[0m\u001b[1;34m'Parameter grid value is not iterable (key={!r}, value={!r})'\u001b[0m\u001b[1;33m.\u001b[0m\u001b[0mformat\u001b[0m\u001b[1;33m(\u001b[0m\u001b[0mkey\u001b[0m\u001b[1;33m,\u001b[0m \u001b[0mgrid\u001b[0m\u001b[1;33m[\u001b[0m\u001b[0mkey\u001b[0m\u001b[1;33m]\u001b[0m\u001b[1;33m)\u001b[0m\u001b[1;33m)\u001b[0m\u001b[1;33m\u001b[0m\u001b[1;33m\u001b[0m\u001b[0m\n\u001b[0;32m   3927\u001b[0m \u001b[1;33m\u001b[0m\u001b[0m\n\u001b[1;32m-> 3928\u001b[1;33m         return self._tune_hyperparams(\n\u001b[0m\u001b[0;32m   3929\u001b[0m             \u001b[0mparam_grid\u001b[0m\u001b[1;33m=\u001b[0m\u001b[0mparam_grid\u001b[0m\u001b[1;33m,\u001b[0m \u001b[0mX\u001b[0m\u001b[1;33m=\u001b[0m\u001b[0mX\u001b[0m\u001b[1;33m,\u001b[0m \u001b[0my\u001b[0m\u001b[1;33m=\u001b[0m\u001b[0my\u001b[0m\u001b[1;33m,\u001b[0m \u001b[0mcv\u001b[0m\u001b[1;33m=\u001b[0m\u001b[0mcv\u001b[0m\u001b[1;33m,\u001b[0m \u001b[0mn_iter\u001b[0m\u001b[1;33m=\u001b[0m\u001b[1;33m-\u001b[0m\u001b[1;36m1\u001b[0m\u001b[1;33m,\u001b[0m\u001b[1;33m\u001b[0m\u001b[1;33m\u001b[0m\u001b[0m\n\u001b[0;32m   3930\u001b[0m             \u001b[0mpartition_random_seed\u001b[0m\u001b[1;33m=\u001b[0m\u001b[0mpartition_random_seed\u001b[0m\u001b[1;33m,\u001b[0m \u001b[0mcalc_cv_statistics\u001b[0m\u001b[1;33m=\u001b[0m\u001b[0mcalc_cv_statistics\u001b[0m\u001b[1;33m,\u001b[0m\u001b[1;33m\u001b[0m\u001b[1;33m\u001b[0m\u001b[0m\n",
      "\u001b[1;32m~\\anaconda3\\lib\\site-packages\\catboost\\core.py\u001b[0m in \u001b[0;36m_tune_hyperparams\u001b[1;34m(self, param_grid, X, y, cv, n_iter, partition_random_seed, calc_cv_statistics, search_by_train_test_split, refit, shuffle, stratified, train_size, verbose, plot, log_cout, log_cerr)\u001b[0m\n\u001b[0;32m   3823\u001b[0m \u001b[1;33m\u001b[0m\u001b[0m\n\u001b[0;32m   3824\u001b[0m         \u001b[1;32mwith\u001b[0m \u001b[0mlog_fixup\u001b[0m\u001b[1;33m(\u001b[0m\u001b[0mlog_cout\u001b[0m\u001b[1;33m,\u001b[0m \u001b[0mlog_cerr\u001b[0m\u001b[1;33m)\u001b[0m\u001b[1;33m,\u001b[0m \u001b[0mplot_wrapper\u001b[0m\u001b[1;33m(\u001b[0m\u001b[0mplot\u001b[0m\u001b[1;33m,\u001b[0m \u001b[1;33m[\u001b[0m\u001b[0m_get_train_dir\u001b[0m\u001b[1;33m(\u001b[0m\u001b[0mparams\u001b[0m\u001b[1;33m)\u001b[0m\u001b[1;33m]\u001b[0m\u001b[1;33m)\u001b[0m\u001b[1;33m:\u001b[0m\u001b[1;33m\u001b[0m\u001b[1;33m\u001b[0m\u001b[0m\n\u001b[1;32m-> 3825\u001b[1;33m             cv_result = self._object._tune_hyperparams(\n\u001b[0m\u001b[0;32m   3826\u001b[0m                 \u001b[0mparam_grid\u001b[0m\u001b[1;33m,\u001b[0m \u001b[0mtrain_params\u001b[0m\u001b[1;33m[\u001b[0m\u001b[1;34m\"train_pool\"\u001b[0m\u001b[1;33m]\u001b[0m\u001b[1;33m,\u001b[0m \u001b[0mparams\u001b[0m\u001b[1;33m,\u001b[0m \u001b[0mn_iter\u001b[0m\u001b[1;33m,\u001b[0m\u001b[1;33m\u001b[0m\u001b[1;33m\u001b[0m\u001b[0m\n\u001b[0;32m   3827\u001b[0m                 \u001b[0mfold_count\u001b[0m\u001b[1;33m,\u001b[0m \u001b[0mpartition_random_seed\u001b[0m\u001b[1;33m,\u001b[0m \u001b[0mshuffle\u001b[0m\u001b[1;33m,\u001b[0m \u001b[0mstratified\u001b[0m\u001b[1;33m,\u001b[0m \u001b[0mtrain_size\u001b[0m\u001b[1;33m,\u001b[0m\u001b[1;33m\u001b[0m\u001b[1;33m\u001b[0m\u001b[0m\n",
      "\u001b[1;32m_catboost.pyx\u001b[0m in \u001b[0;36m_catboost._CatBoost._tune_hyperparams\u001b[1;34m()\u001b[0m\n",
      "\u001b[1;32m_catboost.pyx\u001b[0m in \u001b[0;36m_catboost._CatBoost._tune_hyperparams\u001b[1;34m()\u001b[0m\n",
      "\u001b[1;31mKeyboardInterrupt\u001b[0m: "
     ]
    }
   ],
   "source": [
    "tuning_model = cb.CatBoostRegressor(verbose=False)\n",
    "grid_search_result = tuning_model.grid_search(grid,\n",
    "                                       X=X,\n",
    "                                       y=y,\n",
    "                                       plot=True, \n",
    "                                       train_size=0.8,\n",
    "                                       verbose=False)"
   ]
  },
  {
   "cell_type": "markdown",
   "metadata": {},
   "source": [
    "Мне пришлось прервать grid_search ввиду долгого перебора и сильного нагрева компьютера и я решил самостоятельно по отдельности перебрать гиперпараметры: "
   ]
  },
  {
   "cell_type": "code",
   "execution_count": 15,
   "metadata": {},
   "outputs": [
    {
     "name": "stdout",
     "output_type": "stream",
     "text": [
      "Среднеквадратическая ошибка (RMSE) на CatBoostRegressor  = 2589153 рублей\n"
     ]
    }
   ],
   "source": [
    "import catboost as cb\n",
    "\n",
    "model_3 = cb.CatBoostRegressor(n_estimators=100, verbose=False)\n",
    "model_3.fit(X_train, y_train)\n",
    "y_pred = model_3.predict(X_test)\n",
    "rmse_3 = mean_squared_error(y_test, y_pred, squared=False)\n",
    "print(f'Среднеквадратическая ошибка (RMSE) на CatBoostRegressor  = {round(rmse_3)} рублей') "
   ]
  },
  {
   "cell_type": "code",
   "execution_count": 103,
   "metadata": {},
   "outputs": [
    {
     "data": {
      "image/png": "[encoded data removed]",
      "text/plain": [
       "<Figure size 432x288 with 1 Axes>"
      ]
     },
     "metadata": {
      "needs_background": "light"
     },
     "output_type": "display_data"
    }
   ],
   "source": [
    "learning_rate_list = [0.03, 0.06, 0.1, 0.2, 0.3, 0.5]\n",
    "rmse_list = []\n",
    "for i in learning_rate_list:\n",
    "    model = cb.CatBoostRegressor(learning_rate=i, n_estimators=100, verbose=False)\n",
    "    model.fit(X_train, y_train)\n",
    "    y_pred = model.predict(X_test)\n",
    "    rmse = mean_squared_error(y_test, y_pred, squared=False)\n",
    "    rmse_list.append(rmse)\n",
    "\n",
    "plt.plot(learning_rate_list, rmse_list)\n",
    "plt.xlabel('learning_rate')\n",
    "plt.ylabel('RMSE')\n",
    "plt.show()"
   ]
  },
  {
   "cell_type": "code",
   "execution_count": 106,
   "metadata": {},
   "outputs": [
    {
     "data": {
      "image/png": "[encoded data removed]",
      "text/plain": [
       "<Figure size 432x288 with 1 Axes>"
      ]
     },
     "metadata": {
      "needs_background": "light"
     },
     "output_type": "display_data"
    }
   ],
   "source": [
    "depth_list = [4, 5, 6, 7, 8, 9, 10]\n",
    "rmse_list = []\n",
    "for i in depth_list:\n",
    "    model = cb.CatBoostRegressor(depth=i, n_estimators=100, verbose=False)\n",
    "    model.fit(X_train, y_train)\n",
    "    y_pred = model.predict(X_test)\n",
    "    rmse = mean_squared_error(y_test, y_pred, squared=False)\n",
    "    rmse_list.append(rmse)\n",
    "\n",
    "plt.plot(depth_list, rmse_list)\n",
    "plt.xlabel('depth')\n",
    "plt.ylabel('RMSE')\n",
    "plt.show()"
   ]
  },
  {
   "cell_type": "code",
   "execution_count": 107,
   "metadata": {},
   "outputs": [
    {
     "data": {
      "image/png": "[encoded data removed]",
      "text/plain": [
       "<Figure size 432x288 with 1 Axes>"
      ]
     },
     "metadata": {
      "needs_background": "light"
     },
     "output_type": "display_data"
    }
   ],
   "source": [
    "l2_leaf_reg_list = [0.1, 0.2, 0.3, 0.5, 0.7, 1, 2, 3]\n",
    "rmse_list = []\n",
    "for i in l2_leaf_reg_list:\n",
    "    model = cb.CatBoostRegressor(l2_leaf_reg=i, n_estimators=100, verbose=False)\n",
    "    model.fit(X_train, y_train)\n",
    "    y_pred = model.predict(X_test)\n",
    "    rmse = mean_squared_error(y_test, y_pred, squared=False)\n",
    "    rmse_list.append(rmse)\n",
    "\n",
    "plt.plot(l2_leaf_reg_list, rmse_list)\n",
    "plt.xlabel('l2_leaf_reg')\n",
    "plt.ylabel('RMSE')\n",
    "plt.show()"
   ]
  },
  {
   "cell_type": "code",
   "execution_count": 109,
   "metadata": {},
   "outputs": [
    {
     "data": {
      "image/png": "[encoded data removed]",
      "text/plain": [
       "<Figure size 432x288 with 1 Axes>"
      ]
     },
     "metadata": {
      "needs_background": "light"
     },
     "output_type": "display_data"
    }
   ],
   "source": [
    "bootstrap_type_list = ['Bayesian' ,'Bernoulli' ,'MVS' ,'No']\n",
    "rmse_list = []\n",
    "for i in bootstrap_type_list:\n",
    "    model = cb.CatBoostRegressor(bootstrap_type=i, n_estimators=100, verbose=False)\n",
    "    model.fit(X_train, y_train)\n",
    "    y_pred = model.predict(X_test)\n",
    "    rmse = mean_squared_error(y_test, y_pred, squared=False)\n",
    "    rmse_list.append(rmse)\n",
    "\n",
    "plt.plot(bootstrap_type_list, rmse_list)\n",
    "plt.xlabel('bootstrap_type')\n",
    "plt.ylabel('RMSE')\n",
    "plt.show()"
   ]
  },
  {
   "cell_type": "code",
   "execution_count": 113,
   "metadata": {},
   "outputs": [
    {
     "data": {
      "image/png": "[encoded data removed]",
      "text/plain": [
       "<Figure size 432x288 with 1 Axes>"
      ]
     },
     "metadata": {
      "needs_background": "light"
     },
     "output_type": "display_data"
    }
   ],
   "source": [
    "n_estimators_list = [100, 200, 300, 500, 700, 900]\n",
    "rmse_list = []\n",
    "for i in n_estimators_list:\n",
    "    model = cb.CatBoostRegressor(n_estimators=i, verbose=False)\n",
    "    model.fit(X_train, y_train)\n",
    "    y_pred = model.predict(X_test)\n",
    "    rmse = mean_squared_error(y_test, y_pred, squared=False)\n",
    "    rmse_list.append(rmse)\n",
    "\n",
    "plt.plot(n_estimators_list, rmse_list)\n",
    "plt.xlabel('n_estimators_list')\n",
    "plt.ylabel('RMSE')\n",
    "plt.show()"
   ]
  },
  {
   "cell_type": "markdown",
   "metadata": {},
   "source": [
    "Итоговая модель выглядит так:"
   ]
  },
  {
   "cell_type": "code",
   "execution_count": 29,
   "metadata": {},
   "outputs": [
    {
     "name": "stdout",
     "output_type": "stream",
     "text": [
      "Итоговый RMSE =  2616026.8893902088\n"
     ]
    }
   ],
   "source": [
    "best_model = cb.CatBoostRegressor(learning_rate=0.2, depth=6, l2_leaf_reg=0.5 ,\n",
    "                                  bootstrap_type='MVS', n_estimators=900, verbose=False)\n",
    "best_model.fit(X_train, y_train)\n",
    "y_pred = best_model.predict(X_test)\n",
    "rmse = mean_squared_error(y_test, y_pred, squared=False)\n",
    "print('Итоговый RMSE = ', rmse)\n"
   ]
  },
  {
   "cell_type": "markdown",
   "metadata": {},
   "source": [
    "Данный результат показался мне немного странным: лучшие параметры (выбранные по отдельности) при одновременном использовании показывают результат, худший чем гиперпараметры по умолчанию.\n",
    "Тогда лучшая модель - CatBoostRegressor со значениями по умолчанию."
   ]
  },
  {
   "cell_type": "markdown",
   "metadata": {
    "id": "JxQnozbtvD6x"
   },
   "source": [
    "### Ensemble v.1 (3 балла)\n",
    "\n",
    "Ансамбли иногда оказываются лучше чем одна большая модель.\n",
    "\n",
    "В колонке `product_type` содержится информация о том, каким является объявление: `Investment` (продажа квартиры как инвестиции) или `OwnerOccupier` (продажа квартиры для жилья). Логично предположить, что если сделать по модели на каждый из этих типов, то качество будет выше.\n",
    "\n",
    "Обучите свои лучшие модели на отдельно на `Investment` и `OwnerOccupier` (т.е. у вас будет `model_invest`, обученная на `(invest_train_X, invest_train_Y)` и `model_owner`, обученная на `(owner_train_X, owner_train_Y)`) и проверьте качество на отложенной выборке (т.е. на исходном `test_split`)."
   ]
  },
  {
   "cell_type": "markdown",
   "metadata": {
    "id": "HeJOCYa-O_VE"
   },
   "source": [
    "Подготовка X_train и X_test:"
   ]
  },
  {
   "cell_type": "code",
   "execution_count": 16,
   "metadata": {},
   "outputs": [
    {
     "data": {
      "text/plain": [
       "(10242, 1066)"
      ]
     },
     "execution_count": 16,
     "metadata": {},
     "output_type": "execute_result"
    }
   ],
   "source": [
    "invest_train_X = X_train[X_train['product_type_Investment'] == 1]\n",
    "invest_train_X = invest_train_X.drop(columns=['product_type_Investment', 'product_type_OwnerOccupier'])\n",
    "invest_train_X.shape"
   ]
  },
  {
   "cell_type": "code",
   "execution_count": 17,
   "metadata": {},
   "outputs": [
    {
     "data": {
      "text/plain": [
       "(2598, 1066)"
      ]
     },
     "execution_count": 17,
     "metadata": {},
     "output_type": "execute_result"
    }
   ],
   "source": [
    "invest_test_X = X_test[X_test['product_type_Investment'] == 1]\n",
    "invest_test_X = invest_test_X.drop(columns=['product_type_Investment', 'product_type_OwnerOccupier'])\n",
    "invest_test_X.shape"
   ]
  },
  {
   "cell_type": "code",
   "execution_count": 18,
   "metadata": {},
   "outputs": [
    {
     "data": {
      "text/plain": [
       "(5759, 1066)"
      ]
     },
     "execution_count": 18,
     "metadata": {},
     "output_type": "execute_result"
    }
   ],
   "source": [
    "owner_train_X = X_train[X_train['product_type_OwnerOccupier'] == 1]\n",
    "owner_train_X = owner_train_X.drop(columns=['product_type_Investment', 'product_type_OwnerOccupier'])\n",
    "owner_train_X.shape"
   ]
  },
  {
   "cell_type": "code",
   "execution_count": 19,
   "metadata": {},
   "outputs": [
    {
     "data": {
      "text/plain": [
       "(1401, 1066)"
      ]
     },
     "execution_count": 19,
     "metadata": {},
     "output_type": "execute_result"
    }
   ],
   "source": [
    "owner_test_X = X_test[X_test['product_type_OwnerOccupier'] == 1]\n",
    "owner_test_X = owner_test_X.drop(columns=['product_type_Investment', 'product_type_OwnerOccupier'])\n",
    "owner_test_X.shape"
   ]
  },
  {
   "cell_type": "markdown",
   "metadata": {},
   "source": [
    "Подготовка y_train:"
   ]
  },
  {
   "cell_type": "code",
   "execution_count": 20,
   "metadata": {},
   "outputs": [
    {
     "data": {
      "text/plain": [
       "(10242,)"
      ]
     },
     "execution_count": 20,
     "metadata": {},
     "output_type": "execute_result"
    }
   ],
   "source": [
    "invest_train_y = y_train[invest_train_X.index.to_list()]\n",
    "invest_train_y.shape"
   ]
  },
  {
   "cell_type": "code",
   "execution_count": 21,
   "metadata": {},
   "outputs": [
    {
     "data": {
      "text/plain": [
       "(5759,)"
      ]
     },
     "execution_count": 21,
     "metadata": {},
     "output_type": "execute_result"
    }
   ],
   "source": [
    "owner_train_y = y_train[owner_train_X.index.to_list()]\n",
    "owner_train_y.shape"
   ]
  },
  {
   "cell_type": "markdown",
   "metadata": {},
   "source": [
    "Обучение лучшей модели на двух получившихся датасетах:"
   ]
  },
  {
   "cell_type": "code",
   "execution_count": 22,
   "metadata": {},
   "outputs": [],
   "source": [
    "best_model = cb.CatBoostRegressor(n_estimators=1000, verbose=False)"
   ]
  },
  {
   "cell_type": "code",
   "execution_count": 23,
   "metadata": {},
   "outputs": [
    {
     "data": {
      "text/plain": [
       "array([7897055.86239899, 6975031.34713086, 8343025.74728742, ...,\n",
       "       6919854.21204176, 3956811.45199178, 8060332.16577709])"
      ]
     },
     "execution_count": 23,
     "metadata": {},
     "output_type": "execute_result"
    }
   ],
   "source": [
    "best_model.fit(invest_train_X, invest_train_y)\n",
    "y_pred_invest = best_model.predict(invest_test_X)\n",
    "y_pred_invest"
   ]
  },
  {
   "cell_type": "code",
   "execution_count": 24,
   "metadata": {},
   "outputs": [
    {
     "data": {
      "text/plain": [
       "array([ 4844466.38325593,  5686585.9396093 ,  6158591.56666871, ...,\n",
       "        3333628.83535086, 12823156.81167714,  4030512.63186828])"
      ]
     },
     "execution_count": 24,
     "metadata": {},
     "output_type": "execute_result"
    }
   ],
   "source": [
    "best_model.fit(owner_train_X, owner_train_y)\n",
    "y_pred_owner = best_model.predict(owner_test_X)\n",
    "y_pred_owner"
   ]
  },
  {
   "cell_type": "code",
   "execution_count": 26,
   "metadata": {},
   "outputs": [
    {
     "data": {
      "text/plain": [
       "3999"
      ]
     },
     "execution_count": 26,
     "metadata": {},
     "output_type": "execute_result"
    }
   ],
   "source": [
    "# Склеиваем результаты с индексами и складываем 2 списка предсказаний\n",
    "\n",
    "y_pred_invest = list(zip(invest_test_X.index.to_list(), y_pred_invest.tolist()))\n",
    "y_pred_owner = list(zip(owner_test_X.index.to_list(), y_pred_owner.tolist()))\n",
    "\n",
    "y_pred = y_pred_invest + y_pred_owner\n",
    "len(y_pred)"
   ]
  },
  {
   "cell_type": "code",
   "execution_count": 29,
   "metadata": {},
   "outputs": [],
   "source": [
    "# Сортируем полученный список по индексу и оставляем только предсказания (убираем индексы)\n",
    "\n",
    "y_pred = [x[1] for x in sorted(y_pred, key= lambda x: x[0])]"
   ]
  },
  {
   "cell_type": "code",
   "execution_count": 30,
   "metadata": {},
   "outputs": [
    {
     "name": "stdout",
     "output_type": "stream",
     "text": [
      "Итоговый RMSE =  2575350.6943695345\n"
     ]
    }
   ],
   "source": [
    "rmse = mean_squared_error(y_test, y_pred, squared=False)\n",
    "print('Итоговый RMSE = ', rmse)"
   ]
  },
  {
   "cell_type": "markdown",
   "metadata": {},
   "source": [
    "RMSE на модели CatBoostRegressor без подбора параметров был равен 2589000 -> две модели на каждый из классов product_type, хоть и не на много, но улучшили результат. "
   ]
  },
  {
   "cell_type": "markdown",
   "metadata": {
    "id": "J8t-klaK2A6s"
   },
   "source": [
    "### (*) Ensemble v.2 (дополнительно, 2 балла)\n",
    "\n",
    "Попробуйте сделать для `Investment` более сложную модель: обучите `CatBoostRegressor` и `HuberRegressor` из `sklearn`, а затем сложите их предсказания с весами `w_1` и `w_2` (выберите веса сами; сумма весов равняется 1)."
   ]
  },
  {
   "cell_type": "code",
   "execution_count": 31,
   "metadata": {
    "id": "JOKD-l8HuOgM"
   },
   "outputs": [
    {
     "name": "stderr",
     "output_type": "stream",
     "text": [
      "C:\\Users\\alexe\\anaconda3\\lib\\site-packages\\sklearn\\linear_model\\_huber.py:296: ConvergenceWarning: lbfgs failed to converge (status=1):\n",
      "STOP: TOTAL NO. of ITERATIONS REACHED LIMIT.\n",
      "\n",
      "Increase the number of iterations (max_iter) or scale the data as shown in:\n",
      "    https://scikit-learn.org/stable/modules/preprocessing.html\n",
      "  self.n_iter_ = _check_optimize_result(\"lbfgs\", opt_res, self.max_iter)\n"
     ]
    },
    {
     "data": {
      "text/plain": [
       "array([9278851.0917542 , 8117655.15812787, 3240550.07250459, ...,\n",
       "       5567858.20982641, 3994151.91982155, 7137695.20531977])"
      ]
     },
     "execution_count": 31,
     "metadata": {},
     "output_type": "execute_result"
    }
   ],
   "source": [
    "from sklearn.linear_model import HuberRegressor\n",
    "\n",
    "huber_model = HuberRegressor(max_iter=1000)\n",
    "huber_model.fit(invest_train_X, invest_train_y)\n",
    "y_pred_invest_huber = huber_model.predict(invest_test_X)\n",
    "y_pred_invest_huber"
   ]
  },
  {
   "cell_type": "code",
   "execution_count": 39,
   "metadata": {
    "scrolled": true
   },
   "outputs": [
    {
     "name": "stdout",
     "output_type": "stream",
     "text": [
      "Вес Huber Regressor = 0.9, Вес CatBoostRegressor = 0.1, RMSE = 3949605\n",
      "Вес Huber Regressor = 0.8, Вес CatBoostRegressor = 0.2, RMSE = 3699093\n",
      "Вес Huber Regressor = 0.7, Вес CatBoostRegressor = 0.3, RMSE = 3463688\n",
      "Вес Huber Regressor = 0.6, Вес CatBoostRegressor = 0.4, RMSE = 3246679\n",
      "Вес Huber Regressor = 0.5, Вес CatBoostRegressor = 0.5, RMSE = 3051992\n",
      "Вес Huber Regressor = 0.4, Вес CatBoostRegressor = 0.6, RMSE = 2884151\n",
      "Вес Huber Regressor = 0.3, Вес CatBoostRegressor = 0.7, RMSE = 2748079\n",
      "Вес Huber Regressor = 0.2, Вес CatBoostRegressor = 0.8, RMSE = 2648678\n",
      "Вес Huber Regressor = 0.1, Вес CatBoostRegressor = 0.9, RMSE = 2590172\n"
     ]
    }
   ],
   "source": [
    "for i in range(1, 10):\n",
    "    y_pred_invest_res = np.array([x[1] for x in y_pred_invest]) * (i/10) + np.array(y_pred_invest_huber) * (1 - i/10)\n",
    "    y_pred_invest_res = list(zip(invest_test_X.index.to_list(), y_pred_invest_res.tolist()))\n",
    "    y_pred = y_pred_invest_res + y_pred_owner\n",
    "    y_pred = [x[1] for x in sorted(y_pred, key= lambda x: x[0])]\n",
    "    rmse = mean_squared_error(y_test, y_pred, squared=False)\n",
    "    print(f'Вес Huber Regressor = {round(1 - i/10, 2)}, Вес CatBoostRegressor = {round(i/10, 2)}, RMSE = {round(rmse)}')"
   ]
  },
  {
   "cell_type": "markdown",
   "metadata": {},
   "source": [
    "По результатам видно, что чем меньше вес у HuberRegressor, тем лучше результат (то есть он, судя по всему, только мешает CatBoost)"
   ]
  }
 ],
 "metadata": {
  "colab": {
   "collapsed_sections": [],
   "name": "Task.ipynb",
   "provenance": []
  },
  "kernelspec": {
   "display_name": "Python 3 (ipykernel)",
   "language": "python",
   "name": "python3"
  },
  "language_info": {
   "codemirror_mode": {
    "name": "ipython",
    "version": 3
   },
   "file_extension": ".py",
   "mimetype": "text/x-python",
   "name": "python",
   "nbconvert_exporter": "python",
   "pygments_lexer": "ipython3",
   "version": "3.9.7"
  }
 },
 "nbformat": 4,
 "nbformat_minor": 1
}
