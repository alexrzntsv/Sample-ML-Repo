{
 "cells": [
  {
   "cell_type": "markdown",
   "id": "eabb7b36",
   "metadata": {},
   "source": [
    "# Домашняя работа"
   ]
  },
  {
   "cell_type": "code",
   "execution_count": 73,
   "id": "00837626",
   "metadata": {},
   "outputs": [],
   "source": [
    "import pandas as pd\n",
    "import warnings\n",
    "warnings.filterwarnings(\"ignore\")"
   ]
  },
  {
   "cell_type": "code",
   "execution_count": 29,
   "id": "a0c4f60b",
   "metadata": {},
   "outputs": [
    {
     "data": {
      "text/html": [
       "<div>\n",
       "<style scoped>\n",
       "    .dataframe tbody tr th:only-of-type {\n",
       "        vertical-align: middle;\n",
       "    }\n",
       "\n",
       "    .dataframe tbody tr th {\n",
       "        vertical-align: top;\n",
       "    }\n",
       "\n",
       "    .dataframe thead th {\n",
       "        text-align: right;\n",
       "    }\n",
       "</style>\n",
       "<table border=\"1\" class=\"dataframe\">\n",
       "  <thead>\n",
       "    <tr style=\"text-align: right;\">\n",
       "      <th></th>\n",
       "      <th>Id</th>\n",
       "      <th>Hotel_name</th>\n",
       "      <th>Review_Title</th>\n",
       "      <th>Review_Text</th>\n",
       "      <th>Rating</th>\n",
       "    </tr>\n",
       "  </thead>\n",
       "  <tbody>\n",
       "    <tr>\n",
       "      <th>0</th>\n",
       "      <td>0</td>\n",
       "      <td>Park Hyatt</td>\n",
       "      <td>Refuge in Chennai</td>\n",
       "      <td>Excellent room and exercise facility. All arou...</td>\n",
       "      <td>80.0</td>\n",
       "    </tr>\n",
       "    <tr>\n",
       "      <th>1</th>\n",
       "      <td>1</td>\n",
       "      <td>Hilton Chennai</td>\n",
       "      <td>Hilton Chennai</td>\n",
       "      <td>Very comfortable and felt safe. \\r\\nStaff were...</td>\n",
       "      <td>100.0</td>\n",
       "    </tr>\n",
       "    <tr>\n",
       "      <th>2</th>\n",
       "      <td>2</td>\n",
       "      <td>The Royal Regency</td>\n",
       "      <td>No worth the rating shown in websites. Pricing...</td>\n",
       "      <td>Not worth the rating shown. Service is not goo...</td>\n",
       "      <td>71.0</td>\n",
       "    </tr>\n",
       "    <tr>\n",
       "      <th>3</th>\n",
       "      <td>3</td>\n",
       "      <td>Rivera</td>\n",
       "      <td>Good stay</td>\n",
       "      <td>First of all nice &amp; courteous staff, only one ...</td>\n",
       "      <td>86.0</td>\n",
       "    </tr>\n",
       "    <tr>\n",
       "      <th>4</th>\n",
       "      <td>4</td>\n",
       "      <td>Park Hyatt</td>\n",
       "      <td>Needs improvement</td>\n",
       "      <td>Overall ambience of the hotel is very good. In...</td>\n",
       "      <td>86.0</td>\n",
       "    </tr>\n",
       "  </tbody>\n",
       "</table>\n",
       "</div>"
      ],
      "text/plain": [
       "   Id         Hotel_name                                       Review_Title  \\\n",
       "0   0         Park Hyatt                                  Refuge in Chennai   \n",
       "1   1     Hilton Chennai                                     Hilton Chennai   \n",
       "2   2  The Royal Regency  No worth the rating shown in websites. Pricing...   \n",
       "3   3             Rivera                                          Good stay   \n",
       "4   4         Park Hyatt                                  Needs improvement   \n",
       "\n",
       "                                         Review_Text  Rating  \n",
       "0  Excellent room and exercise facility. All arou...    80.0  \n",
       "1  Very comfortable and felt safe. \\r\\nStaff were...   100.0  \n",
       "2  Not worth the rating shown. Service is not goo...    71.0  \n",
       "3  First of all nice & courteous staff, only one ...    86.0  \n",
       "4  Overall ambience of the hotel is very good. In...    86.0  "
      ]
     },
     "execution_count": 29,
     "metadata": {},
     "output_type": "execute_result"
    }
   ],
   "source": [
    "df = pd.read_csv('train.csv', encoding='cp1252')\n",
    "df.head()"
   ]
  },
  {
   "cell_type": "code",
   "execution_count": 30,
   "id": "b908b6c3",
   "metadata": {},
   "outputs": [
    {
     "data": {
      "text/plain": [
       "Id                0\n",
       "Hotel_name        0\n",
       "Review_Title    215\n",
       "Review_Text       0\n",
       "Rating            0\n",
       "dtype: int64"
      ]
     },
     "execution_count": 30,
     "metadata": {},
     "output_type": "execute_result"
    }
   ],
   "source": [
    "df.isna().sum()"
   ]
  },
  {
   "cell_type": "code",
   "execution_count": 31,
   "id": "fa87e91e",
   "metadata": {},
   "outputs": [
    {
     "name": "stdout",
     "output_type": "stream",
     "text": [
      "Количество различных отелей: 243\n",
      "Общее количество отзывов:  2351\n"
     ]
    }
   ],
   "source": [
    "print('Количество различных отелей:' , df['Hotel_name'].nunique())\n",
    "print('Общее количество отзывов: ', df['Hotel_name'].size)"
   ]
  },
  {
   "cell_type": "markdown",
   "id": "ce37eb3f",
   "metadata": {},
   "source": [
    "Выше я считал кол-во уникальных отелей, подозревая, что это категориальный признак и его не нужно предобрабатывать, а просто сделать One-hot Encoding. Но 243 уникальных значения - это слишком много, поэтому буду работать со всеми колонками."
   ]
  },
  {
   "cell_type": "markdown",
   "id": "e256e2c5",
   "metadata": {},
   "source": [
    "Уберём пунктуацию из предложений. Но можно её не терять, а создать отдельную колонку с количеством знаков препинания в отзыве."
   ]
  },
  {
   "cell_type": "code",
   "execution_count": 32,
   "id": "42389fa7",
   "metadata": {},
   "outputs": [
    {
     "data": {
      "text/plain": [
       "'!\"#$%&\\'()*+,-./:;<=>?@[\\\\]^_`{|}~'"
      ]
     },
     "execution_count": 32,
     "metadata": {},
     "output_type": "execute_result"
    }
   ],
   "source": [
    "import string\n",
    "string.punctuation"
   ]
  },
  {
   "cell_type": "code",
   "execution_count": 33,
   "id": "7f567a7f",
   "metadata": {},
   "outputs": [
    {
     "data": {
      "text/html": [
       "<div>\n",
       "<style scoped>\n",
       "    .dataframe tbody tr th:only-of-type {\n",
       "        vertical-align: middle;\n",
       "    }\n",
       "\n",
       "    .dataframe tbody tr th {\n",
       "        vertical-align: top;\n",
       "    }\n",
       "\n",
       "    .dataframe thead th {\n",
       "        text-align: right;\n",
       "    }\n",
       "</style>\n",
       "<table border=\"1\" class=\"dataframe\">\n",
       "  <thead>\n",
       "    <tr style=\"text-align: right;\">\n",
       "      <th></th>\n",
       "      <th>Id</th>\n",
       "      <th>Hotel_name</th>\n",
       "      <th>Review_Title</th>\n",
       "      <th>Review_Text</th>\n",
       "      <th>Rating</th>\n",
       "      <th>Punctuation</th>\n",
       "    </tr>\n",
       "  </thead>\n",
       "  <tbody>\n",
       "    <tr>\n",
       "      <th>0</th>\n",
       "      <td>0</td>\n",
       "      <td>Park Hyatt</td>\n",
       "      <td>Refuge in Chennai</td>\n",
       "      <td>Excellent room and exercise facility All aroun...</td>\n",
       "      <td>80.0</td>\n",
       "      <td>5</td>\n",
       "    </tr>\n",
       "    <tr>\n",
       "      <th>1</th>\n",
       "      <td>1</td>\n",
       "      <td>Hilton Chennai</td>\n",
       "      <td>Hilton Chennai</td>\n",
       "      <td>Very comfortable and felt safe \\r\\nStaff were ...</td>\n",
       "      <td>100.0</td>\n",
       "      <td>4</td>\n",
       "    </tr>\n",
       "    <tr>\n",
       "      <th>2</th>\n",
       "      <td>2</td>\n",
       "      <td>The Royal Regency</td>\n",
       "      <td>No worth the rating shown in websites Pricing ...</td>\n",
       "      <td>Not worth the rating shown Service is not good...</td>\n",
       "      <td>71.0</td>\n",
       "      <td>8</td>\n",
       "    </tr>\n",
       "    <tr>\n",
       "      <th>3</th>\n",
       "      <td>3</td>\n",
       "      <td>Rivera</td>\n",
       "      <td>Good stay</td>\n",
       "      <td>First of all nice  courteous staff only one co...</td>\n",
       "      <td>86.0</td>\n",
       "      <td>6</td>\n",
       "    </tr>\n",
       "    <tr>\n",
       "      <th>4</th>\n",
       "      <td>4</td>\n",
       "      <td>Park Hyatt</td>\n",
       "      <td>Needs improvement</td>\n",
       "      <td>Overall ambience of the hotel is very good In ...</td>\n",
       "      <td>86.0</td>\n",
       "      <td>4</td>\n",
       "    </tr>\n",
       "  </tbody>\n",
       "</table>\n",
       "</div>"
      ],
      "text/plain": [
       "   Id         Hotel_name                                       Review_Title  \\\n",
       "0   0         Park Hyatt                                  Refuge in Chennai   \n",
       "1   1     Hilton Chennai                                     Hilton Chennai   \n",
       "2   2  The Royal Regency  No worth the rating shown in websites Pricing ...   \n",
       "3   3             Rivera                                          Good stay   \n",
       "4   4         Park Hyatt                                  Needs improvement   \n",
       "\n",
       "                                         Review_Text  Rating  Punctuation  \n",
       "0  Excellent room and exercise facility All aroun...    80.0            5  \n",
       "1  Very comfortable and felt safe \\r\\nStaff were ...   100.0            4  \n",
       "2  Not worth the rating shown Service is not good...    71.0            8  \n",
       "3  First of all nice  courteous staff only one co...    86.0            6  \n",
       "4  Overall ambience of the hotel is very good In ...    86.0            4  "
      ]
     },
     "execution_count": 33,
     "metadata": {},
     "output_type": "execute_result"
    }
   ],
   "source": [
    "def remove_punctuations(text):\n",
    "    for punctuation in string.punctuation:\n",
    "        text = str(text).replace(punctuation, '')\n",
    "    return text\n",
    "\n",
    "def count_punctuations(text):\n",
    "    counter = 0\n",
    "    for symbol in text:\n",
    "        if symbol in string.punctuation:\n",
    "            counter += 1\n",
    "    return counter\n",
    "\n",
    "df[\"Punctuation\"] = df['Review_Text'].apply(count_punctuations)\n",
    "df[\"Review_Text\"] = df['Review_Text'].apply(remove_punctuations)\n",
    "df[\"Review_Title\"] = df['Review_Title'].apply(remove_punctuations)\n",
    "df[\"Hotel_name\"] = df['Hotel_name'].apply(remove_punctuations)\n",
    "\n",
    "df.head()"
   ]
  },
  {
   "cell_type": "markdown",
   "id": "a5f76186",
   "metadata": {},
   "source": [
    "##### Токенизация. Разделим на слова."
   ]
  },
  {
   "cell_type": "code",
   "execution_count": 34,
   "id": "e4850f03",
   "metadata": {},
   "outputs": [
    {
     "data": {
      "text/html": [
       "<div>\n",
       "<style scoped>\n",
       "    .dataframe tbody tr th:only-of-type {\n",
       "        vertical-align: middle;\n",
       "    }\n",
       "\n",
       "    .dataframe tbody tr th {\n",
       "        vertical-align: top;\n",
       "    }\n",
       "\n",
       "    .dataframe thead th {\n",
       "        text-align: right;\n",
       "    }\n",
       "</style>\n",
       "<table border=\"1\" class=\"dataframe\">\n",
       "  <thead>\n",
       "    <tr style=\"text-align: right;\">\n",
       "      <th></th>\n",
       "      <th>Id</th>\n",
       "      <th>Hotel_name</th>\n",
       "      <th>Review_Title</th>\n",
       "      <th>Review_Text</th>\n",
       "      <th>Rating</th>\n",
       "      <th>Punctuation</th>\n",
       "    </tr>\n",
       "  </thead>\n",
       "  <tbody>\n",
       "    <tr>\n",
       "      <th>0</th>\n",
       "      <td>0</td>\n",
       "      <td>[Park, Hyatt]</td>\n",
       "      <td>[Refuge, in, Chennai]</td>\n",
       "      <td>[Excellent, room, and, exercise, facility, All...</td>\n",
       "      <td>80.0</td>\n",
       "      <td>5</td>\n",
       "    </tr>\n",
       "    <tr>\n",
       "      <th>1</th>\n",
       "      <td>1</td>\n",
       "      <td>[Hilton, Chennai]</td>\n",
       "      <td>[Hilton, Chennai]</td>\n",
       "      <td>[Very, comfortable, and, felt, safe, Staff, we...</td>\n",
       "      <td>100.0</td>\n",
       "      <td>4</td>\n",
       "    </tr>\n",
       "    <tr>\n",
       "      <th>2</th>\n",
       "      <td>2</td>\n",
       "      <td>[The, Royal, Regency]</td>\n",
       "      <td>[No, worth, the, rating, shown, in, websites, ...</td>\n",
       "      <td>[Not, worth, the, rating, shown, Service, is, ...</td>\n",
       "      <td>71.0</td>\n",
       "      <td>8</td>\n",
       "    </tr>\n",
       "    <tr>\n",
       "      <th>3</th>\n",
       "      <td>3</td>\n",
       "      <td>[Rivera]</td>\n",
       "      <td>[Good, stay]</td>\n",
       "      <td>[First, of, all, nice, courteous, staff, only,...</td>\n",
       "      <td>86.0</td>\n",
       "      <td>6</td>\n",
       "    </tr>\n",
       "    <tr>\n",
       "      <th>4</th>\n",
       "      <td>4</td>\n",
       "      <td>[Park, Hyatt]</td>\n",
       "      <td>[Needs, improvement]</td>\n",
       "      <td>[Overall, ambience, of, the, hotel, is, very, ...</td>\n",
       "      <td>86.0</td>\n",
       "      <td>4</td>\n",
       "    </tr>\n",
       "  </tbody>\n",
       "</table>\n",
       "</div>"
      ],
      "text/plain": [
       "   Id             Hotel_name  \\\n",
       "0   0          [Park, Hyatt]   \n",
       "1   1      [Hilton, Chennai]   \n",
       "2   2  [The, Royal, Regency]   \n",
       "3   3               [Rivera]   \n",
       "4   4          [Park, Hyatt]   \n",
       "\n",
       "                                        Review_Title  \\\n",
       "0                              [Refuge, in, Chennai]   \n",
       "1                                  [Hilton, Chennai]   \n",
       "2  [No, worth, the, rating, shown, in, websites, ...   \n",
       "3                                       [Good, stay]   \n",
       "4                               [Needs, improvement]   \n",
       "\n",
       "                                         Review_Text  Rating  Punctuation  \n",
       "0  [Excellent, room, and, exercise, facility, All...    80.0            5  \n",
       "1  [Very, comfortable, and, felt, safe, Staff, we...   100.0            4  \n",
       "2  [Not, worth, the, rating, shown, Service, is, ...    71.0            8  \n",
       "3  [First, of, all, nice, courteous, staff, only,...    86.0            6  \n",
       "4  [Overall, ambience, of, the, hotel, is, very, ...    86.0            4  "
      ]
     },
     "execution_count": 34,
     "metadata": {},
     "output_type": "execute_result"
    }
   ],
   "source": [
    "import re\n",
    "def split_text(text):\n",
    "    expr = r'[^(\\w.\\w)\\w\\s]'\n",
    "    parser=re.compile(expr)\n",
    "    tmp_string = parser.sub(r'', text)\n",
    "    return tmp_string.split()\n",
    "\n",
    "df[\"Review_Text\"] = df['Review_Text'].apply(split_text)\n",
    "df[\"Review_Title\"] = df['Review_Title'].apply(split_text)\n",
    "df[\"Hotel_name\"] = df['Hotel_name'].apply(split_text)\n",
    "\n",
    "df.head()"
   ]
  },
  {
   "cell_type": "markdown",
   "id": "bfbc171c",
   "metadata": {},
   "source": [
    "##### Приведём все слова к нижнему регистру"
   ]
  },
  {
   "cell_type": "code",
   "execution_count": 35,
   "id": "9c27087a",
   "metadata": {},
   "outputs": [
    {
     "data": {
      "text/html": [
       "<div>\n",
       "<style scoped>\n",
       "    .dataframe tbody tr th:only-of-type {\n",
       "        vertical-align: middle;\n",
       "    }\n",
       "\n",
       "    .dataframe tbody tr th {\n",
       "        vertical-align: top;\n",
       "    }\n",
       "\n",
       "    .dataframe thead th {\n",
       "        text-align: right;\n",
       "    }\n",
       "</style>\n",
       "<table border=\"1\" class=\"dataframe\">\n",
       "  <thead>\n",
       "    <tr style=\"text-align: right;\">\n",
       "      <th></th>\n",
       "      <th>Id</th>\n",
       "      <th>Hotel_name</th>\n",
       "      <th>Review_Title</th>\n",
       "      <th>Review_Text</th>\n",
       "      <th>Rating</th>\n",
       "      <th>Punctuation</th>\n",
       "    </tr>\n",
       "  </thead>\n",
       "  <tbody>\n",
       "    <tr>\n",
       "      <th>0</th>\n",
       "      <td>0</td>\n",
       "      <td>[park, hyatt]</td>\n",
       "      <td>[refuge, in, chennai]</td>\n",
       "      <td>[excellent, room, and, exercise, facility, all...</td>\n",
       "      <td>80.0</td>\n",
       "      <td>5</td>\n",
       "    </tr>\n",
       "    <tr>\n",
       "      <th>1</th>\n",
       "      <td>1</td>\n",
       "      <td>[hilton, chennai]</td>\n",
       "      <td>[hilton, chennai]</td>\n",
       "      <td>[very, comfortable, and, felt, safe, staff, we...</td>\n",
       "      <td>100.0</td>\n",
       "      <td>4</td>\n",
       "    </tr>\n",
       "    <tr>\n",
       "      <th>2</th>\n",
       "      <td>2</td>\n",
       "      <td>[the, royal, regency]</td>\n",
       "      <td>[no, worth, the, rating, shown, in, websites, ...</td>\n",
       "      <td>[not, worth, the, rating, shown, service, is, ...</td>\n",
       "      <td>71.0</td>\n",
       "      <td>8</td>\n",
       "    </tr>\n",
       "    <tr>\n",
       "      <th>3</th>\n",
       "      <td>3</td>\n",
       "      <td>[rivera]</td>\n",
       "      <td>[good, stay]</td>\n",
       "      <td>[first, of, all, nice, courteous, staff, only,...</td>\n",
       "      <td>86.0</td>\n",
       "      <td>6</td>\n",
       "    </tr>\n",
       "    <tr>\n",
       "      <th>4</th>\n",
       "      <td>4</td>\n",
       "      <td>[park, hyatt]</td>\n",
       "      <td>[needs, improvement]</td>\n",
       "      <td>[overall, ambience, of, the, hotel, is, very, ...</td>\n",
       "      <td>86.0</td>\n",
       "      <td>4</td>\n",
       "    </tr>\n",
       "  </tbody>\n",
       "</table>\n",
       "</div>"
      ],
      "text/plain": [
       "   Id             Hotel_name  \\\n",
       "0   0          [park, hyatt]   \n",
       "1   1      [hilton, chennai]   \n",
       "2   2  [the, royal, regency]   \n",
       "3   3               [rivera]   \n",
       "4   4          [park, hyatt]   \n",
       "\n",
       "                                        Review_Title  \\\n",
       "0                              [refuge, in, chennai]   \n",
       "1                                  [hilton, chennai]   \n",
       "2  [no, worth, the, rating, shown, in, websites, ...   \n",
       "3                                       [good, stay]   \n",
       "4                               [needs, improvement]   \n",
       "\n",
       "                                         Review_Text  Rating  Punctuation  \n",
       "0  [excellent, room, and, exercise, facility, all...    80.0            5  \n",
       "1  [very, comfortable, and, felt, safe, staff, we...   100.0            4  \n",
       "2  [not, worth, the, rating, shown, service, is, ...    71.0            8  \n",
       "3  [first, of, all, nice, courteous, staff, only,...    86.0            6  \n",
       "4  [overall, ambience, of, the, hotel, is, very, ...    86.0            4  "
      ]
     },
     "execution_count": 35,
     "metadata": {},
     "output_type": "execute_result"
    }
   ],
   "source": [
    "def to_lower(text):\n",
    "    text = [word.lower() for word in text]\n",
    "    return text\n",
    "\n",
    "df[\"Review_Text\"] = df['Review_Text'].apply(to_lower)\n",
    "df[\"Review_Title\"] = df['Review_Title'].apply(to_lower)\n",
    "df[\"Hotel_name\"] = df['Hotel_name'].apply(to_lower)\n",
    "\n",
    "df.head()"
   ]
  },
  {
   "cell_type": "markdown",
   "id": "dbb411e5",
   "metadata": {},
   "source": [
    "До удаления стоп-слов я решил, на всякий случай запомнить количество слов в отзыве. (Возможно, это тоже коррелирует с таргетом)"
   ]
  },
  {
   "cell_type": "code",
   "execution_count": 36,
   "id": "034c8307",
   "metadata": {},
   "outputs": [
    {
     "data": {
      "text/html": [
       "<div>\n",
       "<style scoped>\n",
       "    .dataframe tbody tr th:only-of-type {\n",
       "        vertical-align: middle;\n",
       "    }\n",
       "\n",
       "    .dataframe tbody tr th {\n",
       "        vertical-align: top;\n",
       "    }\n",
       "\n",
       "    .dataframe thead th {\n",
       "        text-align: right;\n",
       "    }\n",
       "</style>\n",
       "<table border=\"1\" class=\"dataframe\">\n",
       "  <thead>\n",
       "    <tr style=\"text-align: right;\">\n",
       "      <th></th>\n",
       "      <th>Id</th>\n",
       "      <th>Hotel_name</th>\n",
       "      <th>Review_Title</th>\n",
       "      <th>Review_Text</th>\n",
       "      <th>Rating</th>\n",
       "      <th>Punctuation</th>\n",
       "      <th>Length</th>\n",
       "    </tr>\n",
       "  </thead>\n",
       "  <tbody>\n",
       "    <tr>\n",
       "      <th>0</th>\n",
       "      <td>0</td>\n",
       "      <td>[park, hyatt]</td>\n",
       "      <td>[refuge, in, chennai]</td>\n",
       "      <td>[excellent, room, and, exercise, facility, all...</td>\n",
       "      <td>80.0</td>\n",
       "      <td>5</td>\n",
       "      <td>31</td>\n",
       "    </tr>\n",
       "    <tr>\n",
       "      <th>1</th>\n",
       "      <td>1</td>\n",
       "      <td>[hilton, chennai]</td>\n",
       "      <td>[hilton, chennai]</td>\n",
       "      <td>[very, comfortable, and, felt, safe, staff, we...</td>\n",
       "      <td>100.0</td>\n",
       "      <td>4</td>\n",
       "      <td>26</td>\n",
       "    </tr>\n",
       "    <tr>\n",
       "      <th>2</th>\n",
       "      <td>2</td>\n",
       "      <td>[the, royal, regency]</td>\n",
       "      <td>[no, worth, the, rating, shown, in, websites, ...</td>\n",
       "      <td>[not, worth, the, rating, shown, service, is, ...</td>\n",
       "      <td>71.0</td>\n",
       "      <td>8</td>\n",
       "      <td>43</td>\n",
       "    </tr>\n",
       "    <tr>\n",
       "      <th>3</th>\n",
       "      <td>3</td>\n",
       "      <td>[rivera]</td>\n",
       "      <td>[good, stay]</td>\n",
       "      <td>[first, of, all, nice, courteous, staff, only,...</td>\n",
       "      <td>86.0</td>\n",
       "      <td>6</td>\n",
       "      <td>39</td>\n",
       "    </tr>\n",
       "    <tr>\n",
       "      <th>4</th>\n",
       "      <td>4</td>\n",
       "      <td>[park, hyatt]</td>\n",
       "      <td>[needs, improvement]</td>\n",
       "      <td>[overall, ambience, of, the, hotel, is, very, ...</td>\n",
       "      <td>86.0</td>\n",
       "      <td>4</td>\n",
       "      <td>44</td>\n",
       "    </tr>\n",
       "  </tbody>\n",
       "</table>\n",
       "</div>"
      ],
      "text/plain": [
       "   Id             Hotel_name  \\\n",
       "0   0          [park, hyatt]   \n",
       "1   1      [hilton, chennai]   \n",
       "2   2  [the, royal, regency]   \n",
       "3   3               [rivera]   \n",
       "4   4          [park, hyatt]   \n",
       "\n",
       "                                        Review_Title  \\\n",
       "0                              [refuge, in, chennai]   \n",
       "1                                  [hilton, chennai]   \n",
       "2  [no, worth, the, rating, shown, in, websites, ...   \n",
       "3                                       [good, stay]   \n",
       "4                               [needs, improvement]   \n",
       "\n",
       "                                         Review_Text  Rating  Punctuation  \\\n",
       "0  [excellent, room, and, exercise, facility, all...    80.0            5   \n",
       "1  [very, comfortable, and, felt, safe, staff, we...   100.0            4   \n",
       "2  [not, worth, the, rating, shown, service, is, ...    71.0            8   \n",
       "3  [first, of, all, nice, courteous, staff, only,...    86.0            6   \n",
       "4  [overall, ambience, of, the, hotel, is, very, ...    86.0            4   \n",
       "\n",
       "   Length  \n",
       "0      31  \n",
       "1      26  \n",
       "2      43  \n",
       "3      39  \n",
       "4      44  "
      ]
     },
     "execution_count": 36,
     "metadata": {},
     "output_type": "execute_result"
    }
   ],
   "source": [
    "df[\"Length\"] = df['Review_Text'].apply(lambda x: len(x))\n",
    "df.head()"
   ]
  },
  {
   "cell_type": "markdown",
   "id": "4ac7bb7f",
   "metadata": {},
   "source": [
    "##### Удаление стоп-слов"
   ]
  },
  {
   "cell_type": "code",
   "execution_count": 37,
   "id": "de259d03",
   "metadata": {},
   "outputs": [
    {
     "name": "stderr",
     "output_type": "stream",
     "text": [
      "[nltk_data] Downloading package stopwords to\n",
      "[nltk_data]     C:\\Users\\alexe\\AppData\\Roaming\\nltk_data...\n",
      "[nltk_data]   Package stopwords is already up-to-date!\n"
     ]
    },
    {
     "data": {
      "text/plain": [
       "True"
      ]
     },
     "execution_count": 37,
     "metadata": {},
     "output_type": "execute_result"
    }
   ],
   "source": [
    "import nltk\n",
    "nltk.download('stopwords')"
   ]
  },
  {
   "cell_type": "code",
   "execution_count": 38,
   "id": "84f2996a",
   "metadata": {},
   "outputs": [
    {
     "data": {
      "text/html": [
       "<div>\n",
       "<style scoped>\n",
       "    .dataframe tbody tr th:only-of-type {\n",
       "        vertical-align: middle;\n",
       "    }\n",
       "\n",
       "    .dataframe tbody tr th {\n",
       "        vertical-align: top;\n",
       "    }\n",
       "\n",
       "    .dataframe thead th {\n",
       "        text-align: right;\n",
       "    }\n",
       "</style>\n",
       "<table border=\"1\" class=\"dataframe\">\n",
       "  <thead>\n",
       "    <tr style=\"text-align: right;\">\n",
       "      <th></th>\n",
       "      <th>Id</th>\n",
       "      <th>Hotel_name</th>\n",
       "      <th>Review_Title</th>\n",
       "      <th>Review_Text</th>\n",
       "      <th>Rating</th>\n",
       "      <th>Punctuation</th>\n",
       "      <th>Length</th>\n",
       "    </tr>\n",
       "  </thead>\n",
       "  <tbody>\n",
       "    <tr>\n",
       "      <th>0</th>\n",
       "      <td>0</td>\n",
       "      <td>[park, hyatt]</td>\n",
       "      <td>[refuge, chennai]</td>\n",
       "      <td>[excellent, room, exercise, facility, around, ...</td>\n",
       "      <td>80.0</td>\n",
       "      <td>5</td>\n",
       "      <td>31</td>\n",
       "    </tr>\n",
       "    <tr>\n",
       "      <th>1</th>\n",
       "      <td>1</td>\n",
       "      <td>[hilton, chennai]</td>\n",
       "      <td>[hilton, chennai]</td>\n",
       "      <td>[comfortable, felt, safe, staff, helpful, resp...</td>\n",
       "      <td>100.0</td>\n",
       "      <td>4</td>\n",
       "      <td>26</td>\n",
       "    </tr>\n",
       "    <tr>\n",
       "      <th>2</th>\n",
       "      <td>2</td>\n",
       "      <td>[royal, regency]</td>\n",
       "      <td>[worth, rating, shown, websites, pricing, ok]</td>\n",
       "      <td>[worth, rating, shown, service, good, room, we...</td>\n",
       "      <td>71.0</td>\n",
       "      <td>8</td>\n",
       "      <td>43</td>\n",
       "    </tr>\n",
       "    <tr>\n",
       "      <th>3</th>\n",
       "      <td>3</td>\n",
       "      <td>[rivera]</td>\n",
       "      <td>[good, stay]</td>\n",
       "      <td>[first, nice, courteous, staff, one, con, stay...</td>\n",
       "      <td>86.0</td>\n",
       "      <td>6</td>\n",
       "      <td>39</td>\n",
       "    </tr>\n",
       "    <tr>\n",
       "      <th>4</th>\n",
       "      <td>4</td>\n",
       "      <td>[park, hyatt]</td>\n",
       "      <td>[needs, improvement]</td>\n",
       "      <td>[overall, ambience, hotel, good, room, facilit...</td>\n",
       "      <td>86.0</td>\n",
       "      <td>4</td>\n",
       "      <td>44</td>\n",
       "    </tr>\n",
       "  </tbody>\n",
       "</table>\n",
       "</div>"
      ],
      "text/plain": [
       "   Id         Hotel_name                                   Review_Title  \\\n",
       "0   0      [park, hyatt]                              [refuge, chennai]   \n",
       "1   1  [hilton, chennai]                              [hilton, chennai]   \n",
       "2   2   [royal, regency]  [worth, rating, shown, websites, pricing, ok]   \n",
       "3   3           [rivera]                                   [good, stay]   \n",
       "4   4      [park, hyatt]                           [needs, improvement]   \n",
       "\n",
       "                                         Review_Text  Rating  Punctuation  \\\n",
       "0  [excellent, room, exercise, facility, around, ...    80.0            5   \n",
       "1  [comfortable, felt, safe, staff, helpful, resp...   100.0            4   \n",
       "2  [worth, rating, shown, service, good, room, we...    71.0            8   \n",
       "3  [first, nice, courteous, staff, one, con, stay...    86.0            6   \n",
       "4  [overall, ambience, hotel, good, room, facilit...    86.0            4   \n",
       "\n",
       "   Length  \n",
       "0      31  \n",
       "1      26  \n",
       "2      43  \n",
       "3      39  \n",
       "4      44  "
      ]
     },
     "execution_count": 38,
     "metadata": {},
     "output_type": "execute_result"
    }
   ],
   "source": [
    "from nltk.corpus import stopwords\n",
    "sw_eng = set(stopwords.words('english'))\n",
    "\n",
    "def del_stopwords(text):\n",
    "    text = [word for word in text if word not in sw_eng]\n",
    "    return text\n",
    "\n",
    "df[\"Review_Text\"] = df['Review_Text'].apply(del_stopwords)\n",
    "df[\"Review_Title\"] = df['Review_Title'].apply(del_stopwords)\n",
    "df[\"Hotel_name\"] = df['Hotel_name'].apply(del_stopwords)\n",
    "\n",
    "df.head()\n"
   ]
  },
  {
   "cell_type": "markdown",
   "id": "a352f888",
   "metadata": {},
   "source": [
    "##### Применим Лемматизацию"
   ]
  },
  {
   "cell_type": "code",
   "execution_count": 39,
   "id": "4651d19f",
   "metadata": {},
   "outputs": [
    {
     "name": "stderr",
     "output_type": "stream",
     "text": [
      "[nltk_data] Downloading package punkt to\n",
      "[nltk_data]     C:\\Users\\alexe\\AppData\\Roaming\\nltk_data...\n",
      "[nltk_data]   Package punkt is already up-to-date!\n"
     ]
    },
    {
     "data": {
      "text/plain": [
       "True"
      ]
     },
     "execution_count": 39,
     "metadata": {},
     "output_type": "execute_result"
    }
   ],
   "source": [
    "nltk.download('punkt')"
   ]
  },
  {
   "cell_type": "code",
   "execution_count": 40,
   "id": "034f7476",
   "metadata": {},
   "outputs": [
    {
     "name": "stderr",
     "output_type": "stream",
     "text": [
      "[nltk_data] Downloading package averaged_perceptron_tagger to\n",
      "[nltk_data]     C:\\Users\\alexe\\AppData\\Roaming\\nltk_data...\n",
      "[nltk_data]   Package averaged_perceptron_tagger is already up-to-\n",
      "[nltk_data]       date!\n"
     ]
    }
   ],
   "source": [
    "import nltk\n",
    "from nltk.stem import WordNetLemmatizer\n",
    "nltk.download('averaged_perceptron_tagger')\n",
    "from nltk.corpus import wordnet\n",
    "\n",
    "lemmatizer = WordNetLemmatizer()\n",
    "\n",
    "def pos_tagger(nltk_tag):\n",
    "    if nltk_tag.startswith('J'):\n",
    "        return wordnet.ADJ\n",
    "    elif nltk_tag.startswith('V'):\n",
    "        return wordnet.VERB\n",
    "    elif nltk_tag.startswith('N'):\n",
    "        return wordnet.NOUN\n",
    "    elif nltk_tag.startswith('R'):\n",
    "        return wordnet.ADV\n",
    "    else:\n",
    "        return None\n",
    "    \n",
    "def lemmatize_text(text):\n",
    "    sentence = ' '.join(text)\n",
    "    pos_tagged = nltk.pos_tag(nltk.word_tokenize(sentence))\n",
    "    wordnet_tagged = list(map(lambda x: (x[0], pos_tagger(x[1])), pos_tagged))\n",
    "\n",
    "    lemmatized_sentence = []\n",
    "    for word, tag in wordnet_tagged:\n",
    "        if tag is None:\n",
    "            lemmatized_sentence.append(word)\n",
    "        else:\n",
    "            lemmatized_sentence.append(lemmatizer.lemmatize(word, tag))\n",
    "    return lemmatized_sentence\n"
   ]
  },
  {
   "cell_type": "code",
   "execution_count": 41,
   "id": "4c27f40d",
   "metadata": {},
   "outputs": [
    {
     "data": {
      "text/html": [
       "<div>\n",
       "<style scoped>\n",
       "    .dataframe tbody tr th:only-of-type {\n",
       "        vertical-align: middle;\n",
       "    }\n",
       "\n",
       "    .dataframe tbody tr th {\n",
       "        vertical-align: top;\n",
       "    }\n",
       "\n",
       "    .dataframe thead th {\n",
       "        text-align: right;\n",
       "    }\n",
       "</style>\n",
       "<table border=\"1\" class=\"dataframe\">\n",
       "  <thead>\n",
       "    <tr style=\"text-align: right;\">\n",
       "      <th></th>\n",
       "      <th>Id</th>\n",
       "      <th>Hotel_name</th>\n",
       "      <th>Review_Title</th>\n",
       "      <th>Review_Text</th>\n",
       "      <th>Rating</th>\n",
       "      <th>Punctuation</th>\n",
       "      <th>Length</th>\n",
       "    </tr>\n",
       "  </thead>\n",
       "  <tbody>\n",
       "    <tr>\n",
       "      <th>0</th>\n",
       "      <td>0</td>\n",
       "      <td>[park, hyatt]</td>\n",
       "      <td>[refuge, chennai]</td>\n",
       "      <td>[excellent, room, exercise, facility, around, ...</td>\n",
       "      <td>80.0</td>\n",
       "      <td>5</td>\n",
       "      <td>31</td>\n",
       "    </tr>\n",
       "    <tr>\n",
       "      <th>1</th>\n",
       "      <td>1</td>\n",
       "      <td>[hilton, chennai]</td>\n",
       "      <td>[hilton, chennai]</td>\n",
       "      <td>[comfortable, felt, safe, staff, helpful, resp...</td>\n",
       "      <td>100.0</td>\n",
       "      <td>4</td>\n",
       "      <td>26</td>\n",
       "    </tr>\n",
       "    <tr>\n",
       "      <th>2</th>\n",
       "      <td>2</td>\n",
       "      <td>[royal, regency]</td>\n",
       "      <td>[worth, rating, show, website, price, ok]</td>\n",
       "      <td>[worth, rating, show, service, good, room, wel...</td>\n",
       "      <td>71.0</td>\n",
       "      <td>8</td>\n",
       "      <td>43</td>\n",
       "    </tr>\n",
       "    <tr>\n",
       "      <th>3</th>\n",
       "      <td>3</td>\n",
       "      <td>[rivera]</td>\n",
       "      <td>[good, stay]</td>\n",
       "      <td>[first, nice, courteous, staff, one, con, stay...</td>\n",
       "      <td>86.0</td>\n",
       "      <td>6</td>\n",
       "      <td>39</td>\n",
       "    </tr>\n",
       "    <tr>\n",
       "      <th>4</th>\n",
       "      <td>4</td>\n",
       "      <td>[park, hyatt]</td>\n",
       "      <td>[need, improvement]</td>\n",
       "      <td>[overall, ambience, hotel, good, room, facilit...</td>\n",
       "      <td>86.0</td>\n",
       "      <td>4</td>\n",
       "      <td>44</td>\n",
       "    </tr>\n",
       "  </tbody>\n",
       "</table>\n",
       "</div>"
      ],
      "text/plain": [
       "   Id         Hotel_name                               Review_Title  \\\n",
       "0   0      [park, hyatt]                          [refuge, chennai]   \n",
       "1   1  [hilton, chennai]                          [hilton, chennai]   \n",
       "2   2   [royal, regency]  [worth, rating, show, website, price, ok]   \n",
       "3   3           [rivera]                               [good, stay]   \n",
       "4   4      [park, hyatt]                        [need, improvement]   \n",
       "\n",
       "                                         Review_Text  Rating  Punctuation  \\\n",
       "0  [excellent, room, exercise, facility, around, ...    80.0            5   \n",
       "1  [comfortable, felt, safe, staff, helpful, resp...   100.0            4   \n",
       "2  [worth, rating, show, service, good, room, wel...    71.0            8   \n",
       "3  [first, nice, courteous, staff, one, con, stay...    86.0            6   \n",
       "4  [overall, ambience, hotel, good, room, facilit...    86.0            4   \n",
       "\n",
       "   Length  \n",
       "0      31  \n",
       "1      26  \n",
       "2      43  \n",
       "3      39  \n",
       "4      44  "
      ]
     },
     "execution_count": 41,
     "metadata": {},
     "output_type": "execute_result"
    }
   ],
   "source": [
    "df[\"Review_Text\"] = df['Review_Text'].apply(lemmatize_text)\n",
    "df[\"Review_Title\"] = df['Review_Title'].apply(lemmatize_text)\n",
    "df[\"Hotel_name\"] = df['Hotel_name'].apply(lemmatize_text)\n",
    "\n",
    "df.head()"
   ]
  },
  {
   "cell_type": "code",
   "execution_count": 42,
   "id": "7831efd0",
   "metadata": {},
   "outputs": [
    {
     "data": {
      "text/html": [
       "<div>\n",
       "<style scoped>\n",
       "    .dataframe tbody tr th:only-of-type {\n",
       "        vertical-align: middle;\n",
       "    }\n",
       "\n",
       "    .dataframe tbody tr th {\n",
       "        vertical-align: top;\n",
       "    }\n",
       "\n",
       "    .dataframe thead th {\n",
       "        text-align: right;\n",
       "    }\n",
       "</style>\n",
       "<table border=\"1\" class=\"dataframe\">\n",
       "  <thead>\n",
       "    <tr style=\"text-align: right;\">\n",
       "      <th></th>\n",
       "      <th>Id</th>\n",
       "      <th>Hotel_name</th>\n",
       "      <th>Review_Title</th>\n",
       "      <th>Review_Text</th>\n",
       "      <th>Rating</th>\n",
       "      <th>Punctuation</th>\n",
       "      <th>Length</th>\n",
       "    </tr>\n",
       "  </thead>\n",
       "  <tbody>\n",
       "    <tr>\n",
       "      <th>0</th>\n",
       "      <td>0</td>\n",
       "      <td>park hyatt</td>\n",
       "      <td>refuge chennai</td>\n",
       "      <td>excellent room exercise facility around atmosp...</td>\n",
       "      <td>80.0</td>\n",
       "      <td>5</td>\n",
       "      <td>31</td>\n",
       "    </tr>\n",
       "    <tr>\n",
       "      <th>1</th>\n",
       "      <td>1</td>\n",
       "      <td>hilton chennai</td>\n",
       "      <td>hilton chennai</td>\n",
       "      <td>comfortable felt safe staff helpful respectful...</td>\n",
       "      <td>100.0</td>\n",
       "      <td>4</td>\n",
       "      <td>26</td>\n",
       "    </tr>\n",
       "    <tr>\n",
       "      <th>2</th>\n",
       "      <td>2</td>\n",
       "      <td>royal regency</td>\n",
       "      <td>worth rating show website price ok</td>\n",
       "      <td>worth rating show service good room well maint...</td>\n",
       "      <td>71.0</td>\n",
       "      <td>8</td>\n",
       "      <td>43</td>\n",
       "    </tr>\n",
       "    <tr>\n",
       "      <th>3</th>\n",
       "      <td>3</td>\n",
       "      <td>rivera</td>\n",
       "      <td>good stay</td>\n",
       "      <td>first nice courteous staff one con stay time c...</td>\n",
       "      <td>86.0</td>\n",
       "      <td>6</td>\n",
       "      <td>39</td>\n",
       "    </tr>\n",
       "    <tr>\n",
       "      <th>4</th>\n",
       "      <td>4</td>\n",
       "      <td>park hyatt</td>\n",
       "      <td>need improvement</td>\n",
       "      <td>overall ambience hotel good room facility need...</td>\n",
       "      <td>86.0</td>\n",
       "      <td>4</td>\n",
       "      <td>44</td>\n",
       "    </tr>\n",
       "  </tbody>\n",
       "</table>\n",
       "</div>"
      ],
      "text/plain": [
       "   Id      Hotel_name                        Review_Title  \\\n",
       "0   0      park hyatt                      refuge chennai   \n",
       "1   1  hilton chennai                      hilton chennai   \n",
       "2   2   royal regency  worth rating show website price ok   \n",
       "3   3          rivera                           good stay   \n",
       "4   4      park hyatt                    need improvement   \n",
       "\n",
       "                                         Review_Text  Rating  Punctuation  \\\n",
       "0  excellent room exercise facility around atmosp...    80.0            5   \n",
       "1  comfortable felt safe staff helpful respectful...   100.0            4   \n",
       "2  worth rating show service good room well maint...    71.0            8   \n",
       "3  first nice courteous staff one con stay time c...    86.0            6   \n",
       "4  overall ambience hotel good room facility need...    86.0            4   \n",
       "\n",
       "   Length  \n",
       "0      31  \n",
       "1      26  \n",
       "2      43  \n",
       "3      39  \n",
       "4      44  "
      ]
     },
     "execution_count": 42,
     "metadata": {},
     "output_type": "execute_result"
    }
   ],
   "source": [
    "df[\"Review_Text\"] = df['Review_Text'].apply(lambda x: ' '.join(x))\n",
    "df[\"Review_Title\"] = df['Review_Title'].apply(lambda x: ' '.join(x))\n",
    "df[\"Hotel_name\"] = df['Hotel_name'].apply(lambda x: ' '.join(x))\n",
    "\n",
    "df.head()"
   ]
  },
  {
   "cell_type": "markdown",
   "id": "2b74e7d6",
   "metadata": {},
   "source": [
    "##### Слияние всего текста в одну колонку"
   ]
  },
  {
   "cell_type": "code",
   "execution_count": 43,
   "id": "73eede4c",
   "metadata": {},
   "outputs": [
    {
     "data": {
      "text/html": [
       "<div>\n",
       "<style scoped>\n",
       "    .dataframe tbody tr th:only-of-type {\n",
       "        vertical-align: middle;\n",
       "    }\n",
       "\n",
       "    .dataframe tbody tr th {\n",
       "        vertical-align: top;\n",
       "    }\n",
       "\n",
       "    .dataframe thead th {\n",
       "        text-align: right;\n",
       "    }\n",
       "</style>\n",
       "<table border=\"1\" class=\"dataframe\">\n",
       "  <thead>\n",
       "    <tr style=\"text-align: right;\">\n",
       "      <th></th>\n",
       "      <th>Id</th>\n",
       "      <th>Hotel_name</th>\n",
       "      <th>Review_Title</th>\n",
       "      <th>Review_Text</th>\n",
       "      <th>Rating</th>\n",
       "      <th>Punctuation</th>\n",
       "      <th>Length</th>\n",
       "      <th>Full_text</th>\n",
       "    </tr>\n",
       "  </thead>\n",
       "  <tbody>\n",
       "    <tr>\n",
       "      <th>0</th>\n",
       "      <td>0</td>\n",
       "      <td>park hyatt</td>\n",
       "      <td>refuge chennai</td>\n",
       "      <td>excellent room exercise facility around atmosp...</td>\n",
       "      <td>80.0</td>\n",
       "      <td>5</td>\n",
       "      <td>31</td>\n",
       "      <td>park hyatt refuge chennai excellent room exerc...</td>\n",
       "    </tr>\n",
       "    <tr>\n",
       "      <th>1</th>\n",
       "      <td>1</td>\n",
       "      <td>hilton chennai</td>\n",
       "      <td>hilton chennai</td>\n",
       "      <td>comfortable felt safe staff helpful respectful...</td>\n",
       "      <td>100.0</td>\n",
       "      <td>4</td>\n",
       "      <td>26</td>\n",
       "      <td>hilton chennai hilton chennai comfortable felt...</td>\n",
       "    </tr>\n",
       "    <tr>\n",
       "      <th>2</th>\n",
       "      <td>2</td>\n",
       "      <td>royal regency</td>\n",
       "      <td>worth rating show website price ok</td>\n",
       "      <td>worth rating show service good room well maint...</td>\n",
       "      <td>71.0</td>\n",
       "      <td>8</td>\n",
       "      <td>43</td>\n",
       "      <td>royal regency worth rating show website price ...</td>\n",
       "    </tr>\n",
       "    <tr>\n",
       "      <th>3</th>\n",
       "      <td>3</td>\n",
       "      <td>rivera</td>\n",
       "      <td>good stay</td>\n",
       "      <td>first nice courteous staff one con stay time c...</td>\n",
       "      <td>86.0</td>\n",
       "      <td>6</td>\n",
       "      <td>39</td>\n",
       "      <td>rivera good stay first nice courteous staff on...</td>\n",
       "    </tr>\n",
       "    <tr>\n",
       "      <th>4</th>\n",
       "      <td>4</td>\n",
       "      <td>park hyatt</td>\n",
       "      <td>need improvement</td>\n",
       "      <td>overall ambience hotel good room facility need...</td>\n",
       "      <td>86.0</td>\n",
       "      <td>4</td>\n",
       "      <td>44</td>\n",
       "      <td>park hyatt need improvement overall ambience h...</td>\n",
       "    </tr>\n",
       "  </tbody>\n",
       "</table>\n",
       "</div>"
      ],
      "text/plain": [
       "   Id      Hotel_name                        Review_Title  \\\n",
       "0   0      park hyatt                      refuge chennai   \n",
       "1   1  hilton chennai                      hilton chennai   \n",
       "2   2   royal regency  worth rating show website price ok   \n",
       "3   3          rivera                           good stay   \n",
       "4   4      park hyatt                    need improvement   \n",
       "\n",
       "                                         Review_Text  Rating  Punctuation  \\\n",
       "0  excellent room exercise facility around atmosp...    80.0            5   \n",
       "1  comfortable felt safe staff helpful respectful...   100.0            4   \n",
       "2  worth rating show service good room well maint...    71.0            8   \n",
       "3  first nice courteous staff one con stay time c...    86.0            6   \n",
       "4  overall ambience hotel good room facility need...    86.0            4   \n",
       "\n",
       "   Length                                          Full_text  \n",
       "0      31  park hyatt refuge chennai excellent room exerc...  \n",
       "1      26  hilton chennai hilton chennai comfortable felt...  \n",
       "2      43  royal regency worth rating show website price ...  \n",
       "3      39  rivera good stay first nice courteous staff on...  \n",
       "4      44  park hyatt need improvement overall ambience h...  "
      ]
     },
     "execution_count": 43,
     "metadata": {},
     "output_type": "execute_result"
    }
   ],
   "source": [
    "df['Full_text'] = df['Hotel_name'] + ' ' + df['Review_Title']+ ' ' + df['Review_Text']\n",
    "df.head()"
   ]
  },
  {
   "cell_type": "markdown",
   "id": "8c15037b",
   "metadata": {},
   "source": [
    "### Представление текста"
   ]
  },
  {
   "cell_type": "code",
   "execution_count": 44,
   "id": "67165266",
   "metadata": {},
   "outputs": [],
   "source": [
    "from sklearn.linear_model import LinearRegression, Lasso, Ridge\n",
    "import numpy as np\n",
    "from sklearn.model_selection import train_test_split, cross_val_score, GridSearchCV"
   ]
  },
  {
   "cell_type": "markdown",
   "id": "fd8b054f",
   "metadata": {},
   "source": [
    "##### One-Hot encoding"
   ]
  },
  {
   "cell_type": "code",
   "execution_count": 45,
   "id": "15ee1ff1",
   "metadata": {},
   "outputs": [],
   "source": [
    "from sklearn.preprocessing import LabelEncoder, OneHotEncoder\n",
    "\n",
    "label_encoder = LabelEncoder()\n",
    "X = label_encoder.fit_transform(df['Full_text'])"
   ]
  },
  {
   "cell_type": "code",
   "execution_count": 46,
   "id": "2fd4452a",
   "metadata": {},
   "outputs": [
    {
     "name": "stdout",
     "output_type": "stream",
     "text": [
      "RMSE при использовании One-Hot encoding: 63.90137285971259\n"
     ]
    }
   ],
   "source": [
    "onehot_encoder = OneHotEncoder(sparse=False)\n",
    "X = X.reshape(len(X), 1)\n",
    "X = onehot_encoder.fit_transform(X)\n",
    "\n",
    "y = df['Rating']\n",
    "\n",
    "linreg = LinearRegression()\n",
    "\n",
    "print('RMSE при использовании One-Hot encoding:',\n",
    "      (-np.mean(cross_val_score(linreg, X, y, scoring=\"neg_mean_squared_error\", cv=5)))**0.5)"
   ]
  },
  {
   "cell_type": "markdown",
   "id": "a3402860",
   "metadata": {},
   "source": [
    "###### Count Vectorizer"
   ]
  },
  {
   "cell_type": "code",
   "execution_count": 47,
   "id": "787c19fe",
   "metadata": {},
   "outputs": [
    {
     "name": "stdout",
     "output_type": "stream",
     "text": [
      "RMSE при использовании Count Vectorizer: 44.39519631742207\n"
     ]
    }
   ],
   "source": [
    "from sklearn.feature_extraction.text import CountVectorizer\n",
    "vectorizer = CountVectorizer()\n",
    "\n",
    "X = vectorizer.fit_transform(df['Full_text'])\n",
    "\n",
    "print('RMSE при использовании Count Vectorizer:',\n",
    "            (-np.mean(cross_val_score(linreg, X, y, scoring=\"neg_mean_squared_error\", cv=5)))**0.5)"
   ]
  },
  {
   "cell_type": "markdown",
   "id": "65671e92",
   "metadata": {},
   "source": [
    "##### TF-IDF"
   ]
  },
  {
   "cell_type": "code",
   "execution_count": 48,
   "id": "570c4d6a",
   "metadata": {},
   "outputs": [],
   "source": [
    "from sklearn.feature_extraction.text import TfidfVectorizer\n",
    "idf_vectorizer = TfidfVectorizer()"
   ]
  },
  {
   "cell_type": "code",
   "execution_count": 49,
   "id": "ac098225",
   "metadata": {},
   "outputs": [
    {
     "name": "stdout",
     "output_type": "stream",
     "text": [
      "RMSE при использовании TF-IDF: 22.036023206884618\n"
     ]
    }
   ],
   "source": [
    "X = idf_vectorizer.fit_transform(df['Full_text'])\n",
    "linreg.fit(X, y)\n",
    "pred = linreg.predict(X)\n",
    "print('RMSE при использовании TF-IDF:',\n",
    "    (-np.mean(cross_val_score(LinearRegression(), X, y, scoring=\"neg_mean_squared_error\", cv=5)))**0.5)"
   ]
  },
  {
   "cell_type": "markdown",
   "id": "ac63b389",
   "metadata": {},
   "source": [
    "Лучший результат показан при использовании TF-IDF для представления текста, поэтому в дальнейшем (при переборе моделей, гиперпараметров и т.д.) будем пользоваться этим способом. "
   ]
  },
  {
   "cell_type": "markdown",
   "id": "49a34252",
   "metadata": {},
   "source": [
    "### Feature-Engineering"
   ]
  },
  {
   "cell_type": "markdown",
   "id": "abfe718b",
   "metadata": {},
   "source": [
    "Посмотрим, какие будут результаты при добавлении ранее занесённых в датафрейм признаков."
   ]
  },
  {
   "cell_type": "code",
   "execution_count": 50,
   "id": "17ef31d4",
   "metadata": {},
   "outputs": [],
   "source": [
    "X_dop_features = np.hstack((X.toarray() ,np.array(df['Punctuation']).reshape(len(df['Punctuation']), 1) ))"
   ]
  },
  {
   "cell_type": "code",
   "execution_count": 51,
   "id": "a55606a4",
   "metadata": {},
   "outputs": [
    {
     "name": "stdout",
     "output_type": "stream",
     "text": [
      "RMSE при использовании TF-IDF: 22.153475787778177\n"
     ]
    }
   ],
   "source": [
    "print('RMSE при использовании TF-IDF:',\n",
    "    (-np.mean(cross_val_score(LinearRegression(), X_dop_features, y, scoring=\"neg_mean_squared_error\", cv=5)))**0.5)"
   ]
  },
  {
   "cell_type": "markdown",
   "id": "b9345370",
   "metadata": {},
   "source": [
    "Добавление столбца с количеством знаков препинания привело к небольшому ухудшению результата."
   ]
  },
  {
   "cell_type": "code",
   "execution_count": 52,
   "id": "46e83491",
   "metadata": {},
   "outputs": [],
   "source": [
    "X_dop_features = np.hstack((X.toarray() ,np.array(df['Length']).reshape(len(df['Length']), 1) ))"
   ]
  },
  {
   "cell_type": "code",
   "execution_count": 53,
   "id": "846c2233",
   "metadata": {},
   "outputs": [
    {
     "name": "stdout",
     "output_type": "stream",
     "text": [
      "RMSE при использовании TF-IDF: 22.266463716707996\n"
     ]
    }
   ],
   "source": [
    "print('RMSE при использовании TF-IDF:',\n",
    "    (-np.mean(cross_val_score(LinearRegression(), X_dop_features, y, scoring=\"neg_mean_squared_error\", cv=5)))**0.5)"
   ]
  },
  {
   "cell_type": "markdown",
   "id": "db65184c",
   "metadata": {},
   "source": [
    "Добавление столбца с длинной отзыва тоже немного ухудшило результат."
   ]
  },
  {
   "cell_type": "markdown",
   "id": "5bb92371",
   "metadata": {},
   "source": [
    "Нормализуем эти два столбца и попробуем ещё раз:"
   ]
  },
  {
   "cell_type": "code",
   "execution_count": 54,
   "id": "c784717d",
   "metadata": {},
   "outputs": [
    {
     "data": {
      "text/html": [
       "<div>\n",
       "<style scoped>\n",
       "    .dataframe tbody tr th:only-of-type {\n",
       "        vertical-align: middle;\n",
       "    }\n",
       "\n",
       "    .dataframe tbody tr th {\n",
       "        vertical-align: top;\n",
       "    }\n",
       "\n",
       "    .dataframe thead th {\n",
       "        text-align: right;\n",
       "    }\n",
       "</style>\n",
       "<table border=\"1\" class=\"dataframe\">\n",
       "  <thead>\n",
       "    <tr style=\"text-align: right;\">\n",
       "      <th></th>\n",
       "      <th>Id</th>\n",
       "      <th>Hotel_name</th>\n",
       "      <th>Review_Title</th>\n",
       "      <th>Review_Text</th>\n",
       "      <th>Rating</th>\n",
       "      <th>Punctuation</th>\n",
       "      <th>Length</th>\n",
       "      <th>Full_text</th>\n",
       "      <th>Norm_Punctuation</th>\n",
       "    </tr>\n",
       "  </thead>\n",
       "  <tbody>\n",
       "    <tr>\n",
       "      <th>0</th>\n",
       "      <td>0</td>\n",
       "      <td>park hyatt</td>\n",
       "      <td>refuge chennai</td>\n",
       "      <td>excellent room exercise facility around atmosp...</td>\n",
       "      <td>80.0</td>\n",
       "      <td>5</td>\n",
       "      <td>31</td>\n",
       "      <td>park hyatt refuge chennai excellent room exerc...</td>\n",
       "      <td>0.014286</td>\n",
       "    </tr>\n",
       "    <tr>\n",
       "      <th>1</th>\n",
       "      <td>1</td>\n",
       "      <td>hilton chennai</td>\n",
       "      <td>hilton chennai</td>\n",
       "      <td>comfortable felt safe staff helpful respectful...</td>\n",
       "      <td>100.0</td>\n",
       "      <td>4</td>\n",
       "      <td>26</td>\n",
       "      <td>hilton chennai hilton chennai comfortable felt...</td>\n",
       "      <td>0.011429</td>\n",
       "    </tr>\n",
       "    <tr>\n",
       "      <th>2</th>\n",
       "      <td>2</td>\n",
       "      <td>royal regency</td>\n",
       "      <td>worth rating show website price ok</td>\n",
       "      <td>worth rating show service good room well maint...</td>\n",
       "      <td>71.0</td>\n",
       "      <td>8</td>\n",
       "      <td>43</td>\n",
       "      <td>royal regency worth rating show website price ...</td>\n",
       "      <td>0.022857</td>\n",
       "    </tr>\n",
       "    <tr>\n",
       "      <th>3</th>\n",
       "      <td>3</td>\n",
       "      <td>rivera</td>\n",
       "      <td>good stay</td>\n",
       "      <td>first nice courteous staff one con stay time c...</td>\n",
       "      <td>86.0</td>\n",
       "      <td>6</td>\n",
       "      <td>39</td>\n",
       "      <td>rivera good stay first nice courteous staff on...</td>\n",
       "      <td>0.017143</td>\n",
       "    </tr>\n",
       "    <tr>\n",
       "      <th>4</th>\n",
       "      <td>4</td>\n",
       "      <td>park hyatt</td>\n",
       "      <td>need improvement</td>\n",
       "      <td>overall ambience hotel good room facility need...</td>\n",
       "      <td>86.0</td>\n",
       "      <td>4</td>\n",
       "      <td>44</td>\n",
       "      <td>park hyatt need improvement overall ambience h...</td>\n",
       "      <td>0.011429</td>\n",
       "    </tr>\n",
       "  </tbody>\n",
       "</table>\n",
       "</div>"
      ],
      "text/plain": [
       "   Id      Hotel_name                        Review_Title  \\\n",
       "0   0      park hyatt                      refuge chennai   \n",
       "1   1  hilton chennai                      hilton chennai   \n",
       "2   2   royal regency  worth rating show website price ok   \n",
       "3   3          rivera                           good stay   \n",
       "4   4      park hyatt                    need improvement   \n",
       "\n",
       "                                         Review_Text  Rating  Punctuation  \\\n",
       "0  excellent room exercise facility around atmosp...    80.0            5   \n",
       "1  comfortable felt safe staff helpful respectful...   100.0            4   \n",
       "2  worth rating show service good room well maint...    71.0            8   \n",
       "3  first nice courteous staff one con stay time c...    86.0            6   \n",
       "4  overall ambience hotel good room facility need...    86.0            4   \n",
       "\n",
       "   Length                                          Full_text  Norm_Punctuation  \n",
       "0      31  park hyatt refuge chennai excellent room exerc...          0.014286  \n",
       "1      26  hilton chennai hilton chennai comfortable felt...          0.011429  \n",
       "2      43  royal regency worth rating show website price ...          0.022857  \n",
       "3      39  rivera good stay first nice courteous staff on...          0.017143  \n",
       "4      44  park hyatt need improvement overall ambience h...          0.011429  "
      ]
     },
     "execution_count": 54,
     "metadata": {},
     "output_type": "execute_result"
    }
   ],
   "source": [
    "df['Norm_Punctuation'] = (df['Punctuation']-df['Punctuation'].min())/(df['Punctuation'].max()-df['Punctuation'].min())\n",
    "df.head()"
   ]
  },
  {
   "cell_type": "code",
   "execution_count": 55,
   "id": "ccd42819",
   "metadata": {},
   "outputs": [
    {
     "name": "stdout",
     "output_type": "stream",
     "text": [
      "RMSE при использовании TF-IDF: 22.238729576034718\n"
     ]
    }
   ],
   "source": [
    "X_dop_features = np.hstack((X.toarray() ,np.array(df['Norm_Punctuation']).reshape(len(df['Norm_Punctuation']), 1) ))\n",
    "print('RMSE при использовании TF-IDF:',\n",
    "    (-np.mean(cross_val_score(LinearRegression(), X_dop_features, y, scoring=\"neg_mean_squared_error\", cv=5)))**0.5)"
   ]
  },
  {
   "cell_type": "code",
   "execution_count": 56,
   "id": "c69cee76",
   "metadata": {},
   "outputs": [
    {
     "data": {
      "text/html": [
       "<div>\n",
       "<style scoped>\n",
       "    .dataframe tbody tr th:only-of-type {\n",
       "        vertical-align: middle;\n",
       "    }\n",
       "\n",
       "    .dataframe tbody tr th {\n",
       "        vertical-align: top;\n",
       "    }\n",
       "\n",
       "    .dataframe thead th {\n",
       "        text-align: right;\n",
       "    }\n",
       "</style>\n",
       "<table border=\"1\" class=\"dataframe\">\n",
       "  <thead>\n",
       "    <tr style=\"text-align: right;\">\n",
       "      <th></th>\n",
       "      <th>Id</th>\n",
       "      <th>Hotel_name</th>\n",
       "      <th>Review_Title</th>\n",
       "      <th>Review_Text</th>\n",
       "      <th>Rating</th>\n",
       "      <th>Punctuation</th>\n",
       "      <th>Length</th>\n",
       "      <th>Full_text</th>\n",
       "      <th>Norm_Punctuation</th>\n",
       "      <th>Norm_Length</th>\n",
       "    </tr>\n",
       "  </thead>\n",
       "  <tbody>\n",
       "    <tr>\n",
       "      <th>0</th>\n",
       "      <td>0</td>\n",
       "      <td>park hyatt</td>\n",
       "      <td>refuge chennai</td>\n",
       "      <td>excellent room exercise facility around atmosp...</td>\n",
       "      <td>80.0</td>\n",
       "      <td>5</td>\n",
       "      <td>31</td>\n",
       "      <td>park hyatt refuge chennai excellent room exerc...</td>\n",
       "      <td>0.014286</td>\n",
       "      <td>0.348315</td>\n",
       "    </tr>\n",
       "    <tr>\n",
       "      <th>1</th>\n",
       "      <td>1</td>\n",
       "      <td>hilton chennai</td>\n",
       "      <td>hilton chennai</td>\n",
       "      <td>comfortable felt safe staff helpful respectful...</td>\n",
       "      <td>100.0</td>\n",
       "      <td>4</td>\n",
       "      <td>26</td>\n",
       "      <td>hilton chennai hilton chennai comfortable felt...</td>\n",
       "      <td>0.011429</td>\n",
       "      <td>0.292135</td>\n",
       "    </tr>\n",
       "    <tr>\n",
       "      <th>2</th>\n",
       "      <td>2</td>\n",
       "      <td>royal regency</td>\n",
       "      <td>worth rating show website price ok</td>\n",
       "      <td>worth rating show service good room well maint...</td>\n",
       "      <td>71.0</td>\n",
       "      <td>8</td>\n",
       "      <td>43</td>\n",
       "      <td>royal regency worth rating show website price ...</td>\n",
       "      <td>0.022857</td>\n",
       "      <td>0.483146</td>\n",
       "    </tr>\n",
       "    <tr>\n",
       "      <th>3</th>\n",
       "      <td>3</td>\n",
       "      <td>rivera</td>\n",
       "      <td>good stay</td>\n",
       "      <td>first nice courteous staff one con stay time c...</td>\n",
       "      <td>86.0</td>\n",
       "      <td>6</td>\n",
       "      <td>39</td>\n",
       "      <td>rivera good stay first nice courteous staff on...</td>\n",
       "      <td>0.017143</td>\n",
       "      <td>0.438202</td>\n",
       "    </tr>\n",
       "    <tr>\n",
       "      <th>4</th>\n",
       "      <td>4</td>\n",
       "      <td>park hyatt</td>\n",
       "      <td>need improvement</td>\n",
       "      <td>overall ambience hotel good room facility need...</td>\n",
       "      <td>86.0</td>\n",
       "      <td>4</td>\n",
       "      <td>44</td>\n",
       "      <td>park hyatt need improvement overall ambience h...</td>\n",
       "      <td>0.011429</td>\n",
       "      <td>0.494382</td>\n",
       "    </tr>\n",
       "  </tbody>\n",
       "</table>\n",
       "</div>"
      ],
      "text/plain": [
       "   Id      Hotel_name                        Review_Title  \\\n",
       "0   0      park hyatt                      refuge chennai   \n",
       "1   1  hilton chennai                      hilton chennai   \n",
       "2   2   royal regency  worth rating show website price ok   \n",
       "3   3          rivera                           good stay   \n",
       "4   4      park hyatt                    need improvement   \n",
       "\n",
       "                                         Review_Text  Rating  Punctuation  \\\n",
       "0  excellent room exercise facility around atmosp...    80.0            5   \n",
       "1  comfortable felt safe staff helpful respectful...   100.0            4   \n",
       "2  worth rating show service good room well maint...    71.0            8   \n",
       "3  first nice courteous staff one con stay time c...    86.0            6   \n",
       "4  overall ambience hotel good room facility need...    86.0            4   \n",
       "\n",
       "   Length                                          Full_text  \\\n",
       "0      31  park hyatt refuge chennai excellent room exerc...   \n",
       "1      26  hilton chennai hilton chennai comfortable felt...   \n",
       "2      43  royal regency worth rating show website price ...   \n",
       "3      39  rivera good stay first nice courteous staff on...   \n",
       "4      44  park hyatt need improvement overall ambience h...   \n",
       "\n",
       "   Norm_Punctuation  Norm_Length  \n",
       "0          0.014286     0.348315  \n",
       "1          0.011429     0.292135  \n",
       "2          0.022857     0.483146  \n",
       "3          0.017143     0.438202  \n",
       "4          0.011429     0.494382  "
      ]
     },
     "execution_count": 56,
     "metadata": {},
     "output_type": "execute_result"
    }
   ],
   "source": [
    "df['Norm_Length'] = (df['Length']-df['Length'].min())/(df['Length'].max()-df['Length'].min())\n",
    "df.head()"
   ]
  },
  {
   "cell_type": "code",
   "execution_count": 57,
   "id": "99b09a7d",
   "metadata": {},
   "outputs": [
    {
     "name": "stdout",
     "output_type": "stream",
     "text": [
      "RMSE при использовании TF-IDF: 21.99868763295044\n"
     ]
    }
   ],
   "source": [
    "X_dop_features = np.hstack((X.toarray() ,np.array(df['Norm_Length']).reshape(len(df['Norm_Length']), 1) ))\n",
    "print('RMSE при использовании TF-IDF:',\n",
    "    (-np.mean(cross_val_score(LinearRegression(), X_dop_features, y, scoring=\"neg_mean_squared_error\", cv=5)))**0.5)"
   ]
  },
  {
   "cell_type": "markdown",
   "id": "66cc5f55",
   "metadata": {},
   "source": [
    "При добавлении номализованного столбца \"длина\" результат немного улучшился. Поэтому добавим этот признак в X:"
   ]
  },
  {
   "cell_type": "code",
   "execution_count": 58,
   "id": "5fdcc410",
   "metadata": {},
   "outputs": [],
   "source": [
    "X = np.hstack((X.toarray() ,np.array(df['Norm_Length']).reshape(len(df['Norm_Length']), 1) ))"
   ]
  },
  {
   "cell_type": "markdown",
   "id": "ae56e8b0",
   "metadata": {},
   "source": [
    "Посчитаем кол-во положительных и отрицательных слов в отзыве:"
   ]
  },
  {
   "cell_type": "code",
   "execution_count": 62,
   "id": "e3c37e42",
   "metadata": {},
   "outputs": [],
   "source": [
    "with open('positive-words.txt', 'r') as pos_file:\n",
    "    positive_list = pos_file.read().split()\n",
    "\n",
    "with open('negative-words.txt', 'r') as neg_file:\n",
    "    negative_list = neg_file.read().split()"
   ]
  },
  {
   "cell_type": "code",
   "execution_count": 70,
   "id": "03b7df42",
   "metadata": {},
   "outputs": [
    {
     "data": {
      "text/html": [
       "<div>\n",
       "<style scoped>\n",
       "    .dataframe tbody tr th:only-of-type {\n",
       "        vertical-align: middle;\n",
       "    }\n",
       "\n",
       "    .dataframe tbody tr th {\n",
       "        vertical-align: top;\n",
       "    }\n",
       "\n",
       "    .dataframe thead th {\n",
       "        text-align: right;\n",
       "    }\n",
       "</style>\n",
       "<table border=\"1\" class=\"dataframe\">\n",
       "  <thead>\n",
       "    <tr style=\"text-align: right;\">\n",
       "      <th></th>\n",
       "      <th>Id</th>\n",
       "      <th>Hotel_name</th>\n",
       "      <th>Review_Title</th>\n",
       "      <th>Review_Text</th>\n",
       "      <th>Rating</th>\n",
       "      <th>Punctuation</th>\n",
       "      <th>Length</th>\n",
       "      <th>Full_text</th>\n",
       "      <th>Norm_Punctuation</th>\n",
       "      <th>Norm_Length</th>\n",
       "      <th>Positive_words</th>\n",
       "      <th>Negative_words</th>\n",
       "    </tr>\n",
       "  </thead>\n",
       "  <tbody>\n",
       "    <tr>\n",
       "      <th>0</th>\n",
       "      <td>0</td>\n",
       "      <td>park hyatt</td>\n",
       "      <td>refuge chennai</td>\n",
       "      <td>excellent room exercise facility around atmosp...</td>\n",
       "      <td>80.0</td>\n",
       "      <td>5</td>\n",
       "      <td>31</td>\n",
       "      <td>park hyatt refuge chennai excellent room exerc...</td>\n",
       "      <td>0.014286</td>\n",
       "      <td>0.348315</td>\n",
       "      <td>0.222222</td>\n",
       "      <td>0.000000</td>\n",
       "    </tr>\n",
       "    <tr>\n",
       "      <th>1</th>\n",
       "      <td>1</td>\n",
       "      <td>hilton chennai</td>\n",
       "      <td>hilton chennai</td>\n",
       "      <td>comfortable felt safe staff helpful respectful...</td>\n",
       "      <td>100.0</td>\n",
       "      <td>4</td>\n",
       "      <td>26</td>\n",
       "      <td>hilton chennai hilton chennai comfortable felt...</td>\n",
       "      <td>0.011429</td>\n",
       "      <td>0.292135</td>\n",
       "      <td>0.222222</td>\n",
       "      <td>0.000000</td>\n",
       "    </tr>\n",
       "    <tr>\n",
       "      <th>2</th>\n",
       "      <td>2</td>\n",
       "      <td>royal regency</td>\n",
       "      <td>worth rating show website price ok</td>\n",
       "      <td>worth rating show service good room well maint...</td>\n",
       "      <td>71.0</td>\n",
       "      <td>8</td>\n",
       "      <td>43</td>\n",
       "      <td>royal regency worth rating show website price ...</td>\n",
       "      <td>0.022857</td>\n",
       "      <td>0.483146</td>\n",
       "      <td>0.500000</td>\n",
       "      <td>0.090909</td>\n",
       "    </tr>\n",
       "    <tr>\n",
       "      <th>3</th>\n",
       "      <td>3</td>\n",
       "      <td>rivera</td>\n",
       "      <td>good stay</td>\n",
       "      <td>first nice courteous staff one con stay time c...</td>\n",
       "      <td>86.0</td>\n",
       "      <td>6</td>\n",
       "      <td>39</td>\n",
       "      <td>rivera good stay first nice courteous staff on...</td>\n",
       "      <td>0.017143</td>\n",
       "      <td>0.438202</td>\n",
       "      <td>0.277778</td>\n",
       "      <td>0.181818</td>\n",
       "    </tr>\n",
       "    <tr>\n",
       "      <th>4</th>\n",
       "      <td>4</td>\n",
       "      <td>park hyatt</td>\n",
       "      <td>need improvement</td>\n",
       "      <td>overall ambience hotel good room facility need...</td>\n",
       "      <td>86.0</td>\n",
       "      <td>4</td>\n",
       "      <td>44</td>\n",
       "      <td>park hyatt need improvement overall ambience h...</td>\n",
       "      <td>0.011429</td>\n",
       "      <td>0.494382</td>\n",
       "      <td>0.166667</td>\n",
       "      <td>0.000000</td>\n",
       "    </tr>\n",
       "  </tbody>\n",
       "</table>\n",
       "</div>"
      ],
      "text/plain": [
       "   Id      Hotel_name                        Review_Title  \\\n",
       "0   0      park hyatt                      refuge chennai   \n",
       "1   1  hilton chennai                      hilton chennai   \n",
       "2   2   royal regency  worth rating show website price ok   \n",
       "3   3          rivera                           good stay   \n",
       "4   4      park hyatt                    need improvement   \n",
       "\n",
       "                                         Review_Text  Rating  Punctuation  \\\n",
       "0  excellent room exercise facility around atmosp...    80.0            5   \n",
       "1  comfortable felt safe staff helpful respectful...   100.0            4   \n",
       "2  worth rating show service good room well maint...    71.0            8   \n",
       "3  first nice courteous staff one con stay time c...    86.0            6   \n",
       "4  overall ambience hotel good room facility need...    86.0            4   \n",
       "\n",
       "   Length                                          Full_text  \\\n",
       "0      31  park hyatt refuge chennai excellent room exerc...   \n",
       "1      26  hilton chennai hilton chennai comfortable felt...   \n",
       "2      43  royal regency worth rating show website price ...   \n",
       "3      39  rivera good stay first nice courteous staff on...   \n",
       "4      44  park hyatt need improvement overall ambience h...   \n",
       "\n",
       "   Norm_Punctuation  Norm_Length  Positive_words  Negative_words  \n",
       "0          0.014286     0.348315        0.222222        0.000000  \n",
       "1          0.011429     0.292135        0.222222        0.000000  \n",
       "2          0.022857     0.483146        0.500000        0.090909  \n",
       "3          0.017143     0.438202        0.277778        0.181818  \n",
       "4          0.011429     0.494382        0.166667        0.000000  "
      ]
     },
     "execution_count": 70,
     "metadata": {},
     "output_type": "execute_result"
    }
   ],
   "source": [
    "def count_pos_words(text):\n",
    "    counter = 0\n",
    "    for word in text.split():\n",
    "        if word in positive_list:\n",
    "            counter += 1\n",
    "    return counter\n",
    "\n",
    "def count_neg_words(text):\n",
    "    counter = 0\n",
    "    for word in text.split():\n",
    "        if word in negative_list:\n",
    "            counter += 1\n",
    "    return counter\n",
    "\n",
    "df[\"Positive_words\"] = df['Full_text'].apply(count_pos_words)\n",
    "df[\"Negative_words\"] = df['Full_text'].apply(count_neg_words)\n",
    "\n",
    "#Нормализую\n",
    "df['Positive_words'] = (df['Positive_words']-df['Positive_words'].min())/(df['Positive_words'].max()-df['Positive_words'].min())\n",
    "df['Negative_words'] = (df['Negative_words']-df['Negative_words'].min())/(df['Negative_words'].max()-df['Negative_words'].min())\n",
    "\n",
    "\n",
    "df.head()"
   ]
  },
  {
   "cell_type": "code",
   "execution_count": 71,
   "id": "4f38bb38",
   "metadata": {},
   "outputs": [
    {
     "name": "stdout",
     "output_type": "stream",
     "text": [
      "RMSE при использовании TF-IDF: 22.009265843636122\n"
     ]
    }
   ],
   "source": [
    "X_dop_features = np.hstack((X ,np.array(df['Positive_words']).reshape(len(df['Positive_words']), 1) ))\n",
    "X_dop_features = np.hstack((X_dop_features ,np.array(df['Negative_words']).reshape(len(df['Negative_words']), 1) ))\n",
    "print('RMSE при использовании TF-IDF:',\n",
    "    (-np.mean(cross_val_score(LinearRegression(), X_dop_features, y, scoring=\"neg_mean_squared_error\", cv=5)))**0.5)"
   ]
  },
  {
   "cell_type": "markdown",
   "id": "c7f55b59",
   "metadata": {},
   "source": [
    "Результат ухудшился, поэтому оставим всё в прежнем виде."
   ]
  },
  {
   "cell_type": "markdown",
   "id": "1f699023",
   "metadata": {},
   "source": [
    "### Выбор модели и подбор гиперпараметров:"
   ]
  },
  {
   "cell_type": "markdown",
   "id": "eedeb591",
   "metadata": {},
   "source": [
    "##### Линейная регрессия со стохастическим градиентным спуском:"
   ]
  },
  {
   "cell_type": "code",
   "execution_count": 74,
   "id": "37c72727",
   "metadata": {},
   "outputs": [
    {
     "name": "stdout",
     "output_type": "stream",
     "text": [
      "RMSE при использовании SGDRegressor: 14.468227157482058\n"
     ]
    }
   ],
   "source": [
    "from sklearn.linear_model import SGDRegressor\n",
    " \n",
    "print('RMSE при использовании SGDRegressor:',\n",
    "    (-np.mean(cross_val_score(SGDRegressor(), X, y, scoring=\"neg_mean_squared_error\", cv=5)))**0.5)"
   ]
  },
  {
   "cell_type": "markdown",
   "id": "1d828ff0",
   "metadata": {},
   "source": [
    "Мы видим, что SGDRegressor показал результат намного лучше чем обычная линейная регрессия. Поэтому параметры переберём только для sgd."
   ]
  },
  {
   "cell_type": "code",
   "execution_count": 84,
   "id": "fa293d36",
   "metadata": {},
   "outputs": [
    {
     "name": "stdout",
     "output_type": "stream",
     "text": [
      "['squared_loss', 'l2', 16.3979668753115]\n",
      "['huber', 'l2', 62.09813284900803]\n",
      "['epsilon_insensitive', 'l2', 21.63206413588306]\n",
      "['squared_loss', 'l1', 16.382778476129513]\n",
      "['huber', 'l1', 62.12818311046043]\n",
      "['epsilon_insensitive', 'l1', 21.645569982380493]\n",
      "['squared_loss', 'elasticnet', 16.394087149034057]\n",
      "['huber', 'elasticnet', 62.10338756010017]\n",
      "['epsilon_insensitive', 'elasticnet', 21.63438507710914]\n"
     ]
    }
   ],
   "source": [
    "import itertools\n",
    "\n",
    "penalty_list = [\"l2\",\"l1\", \"elasticnet\"]\n",
    "loss_list = [\"squared_loss\", \"huber\", \"epsilon_insensitive\"]\n",
    "for penalty in penalty_list:\n",
    "    for loss in loss_list:\n",
    "        print([loss, penalty, (-np.mean(cross_val_score(SGDRegressor(loss=loss, penalty=penalty, max_iter=100), X, y, \n",
    "                                                   scoring=\"neg_mean_squared_error\", cv=5)))**0.5])"
   ]
  },
  {
   "cell_type": "markdown",
   "id": "20410569",
   "metadata": {},
   "source": [
    "Лучшие параметры - squared_loss и l1-регуляризация."
   ]
  },
  {
   "cell_type": "code",
   "execution_count": 89,
   "id": "c347f9a6",
   "metadata": {},
   "outputs": [
    {
     "name": "stdout",
     "output_type": "stream",
     "text": [
      "['constant', 14.159879301316908]\n",
      "['optimal', 101174610043.2554]\n",
      "['invscaling', 16.381997725605256]\n",
      "['adaptive', 14.179294176456155]\n"
     ]
    }
   ],
   "source": [
    "for learning_rate in ['constant', 'optimal', 'invscaling', 'adaptive']:\n",
    "    print([learning_rate, (-np.mean(cross_val_score(SGDRegressor(loss='squared_loss', penalty='l1', learning_rate = learning_rate, \n",
    "                                                                 max_iter=100), X, y, scoring=\"neg_mean_squared_error\", cv=5)))**0.5])\n"
   ]
  },
  {
   "cell_type": "markdown",
   "id": "0dabdca6",
   "metadata": {},
   "source": [
    "Лучший параметр для learning rate - constant"
   ]
  },
  {
   "cell_type": "code",
   "execution_count": 93,
   "id": "2bd18fd4",
   "metadata": {},
   "outputs": [
    {
     "name": "stdout",
     "output_type": "stream",
     "text": [
      "Итоговый результат для модели линейной регрессии: 14.17458893580358\n"
     ]
    }
   ],
   "source": [
    "print(\"Итоговый результат для модели линейной регрессии:\",(-np.mean(cross_val_score(SGDRegressor(loss='squared_loss', penalty='l1', learning_rate = 'constant', \n",
    "                                                                 max_iter=100), X, y, scoring=\"neg_mean_squared_error\", cv=5)))**0.5)\n"
   ]
  },
  {
   "cell_type": "markdown",
   "id": "fcd85877",
   "metadata": {},
   "source": [
    "##### Решающие деревья"
   ]
  },
  {
   "cell_type": "code",
   "execution_count": 85,
   "id": "9be51a2c",
   "metadata": {},
   "outputs": [
    {
     "name": "stdout",
     "output_type": "stream",
     "text": [
      "RMSE при использовании DecisionTreeRegressor: 18.489858746112432\n"
     ]
    }
   ],
   "source": [
    "from sklearn.tree import DecisionTreeRegressor\n",
    "\n",
    "print('RMSE при использовании DecisionTreeRegressor:',\n",
    "    (-np.mean(cross_val_score(DecisionTreeRegressor(), X, y, scoring=\"neg_mean_squared_error\", cv=5)))**0.5)"
   ]
  },
  {
   "cell_type": "markdown",
   "id": "bc43d84f",
   "metadata": {},
   "source": [
    "##### Случайный лес:"
   ]
  },
  {
   "cell_type": "code",
   "execution_count": 86,
   "id": "046d8967",
   "metadata": {},
   "outputs": [
    {
     "name": "stdout",
     "output_type": "stream",
     "text": [
      "RMSE при использовании RandomForestRegressor: 14.073800621402\n"
     ]
    }
   ],
   "source": [
    "from sklearn.ensemble import RandomForestRegressor\n",
    "\n",
    "print('RMSE при использовании RandomForestRegressor:',\n",
    "    (-np.mean(cross_val_score(RandomForestRegressor(n_estimators=50), X, y, scoring=\"neg_mean_squared_error\", cv=5)))**0.5)"
   ]
  },
  {
   "cell_type": "code",
   "execution_count": 88,
   "id": "a6966877",
   "metadata": {},
   "outputs": [
    {
     "name": "stdout",
     "output_type": "stream",
     "text": [
      "RMSE при использовании RandomForestRegressor: 15.009477264467717\n"
     ]
    }
   ],
   "source": [
    "import catboost as cb\n",
    "\n",
    "print('RMSE при использовании RandomForestRegressor:',\n",
    "    (-np.mean(cross_val_score(cb.CatBoostRegressor(n_estimators=50, verbose=False), X, y, \n",
    "                              scoring=\"neg_mean_squared_error\", cv=5)))**0.5)"
   ]
  },
  {
   "cell_type": "markdown",
   "id": "e7143318",
   "metadata": {},
   "source": [
    "RandomForestRegressor в данном случае (без подбора гиперпараметров) работает лучше чем CatBoostRegressor. Но так как он намного дольше, я переберу параметру на CatBoost."
   ]
  },
  {
   "cell_type": "code",
   "execution_count": 95,
   "id": "22f1ef1c",
   "metadata": {},
   "outputs": [
    {
     "name": "stdout",
     "output_type": "stream",
     "text": [
      "lr= 0.1  rmse= 16.144631242787913\n",
      "lr= 0.2  rmse= 15.482200456005948\n",
      "lr= 0.3  rmse= 15.242550725348332\n",
      "lr= 0.5  rmse= 15.009477264467717\n",
      "lr= 0.7  rmse= 15.00904986802074\n",
      "lr= 0.9  rmse= 15.257844150943361\n"
     ]
    }
   ],
   "source": [
    "learning_rate_list = [ 0.1, 0.2, 0.3, 0.5, 0.7, 0.9]\n",
    "\n",
    "for i in learning_rate_list:\n",
    "    print('lr=', i, ' rmse=' , (-np.mean(cross_val_score(cb.CatBoostRegressor(n_estimators=50, verbose=False, learning_rate=i), X, y, \n",
    "                              scoring=\"neg_mean_squared_error\", cv=5)))**0.5)"
   ]
  },
  {
   "cell_type": "code",
   "execution_count": 96,
   "id": "3379fa34",
   "metadata": {},
   "outputs": [
    {
     "name": "stdout",
     "output_type": "stream",
     "text": [
      "max_depth= 4  rmse= 15.413204163753791\n",
      "max_depth= 5  rmse= 15.137000617121119\n",
      "max_depth= 6  rmse= 15.009477264467717\n",
      "max_depth= 7  rmse= 14.863997540045101\n",
      "max_depth= 8  rmse= 14.672689037688675\n",
      "max_depth= 9  rmse= 14.563269803950776\n",
      "max_depth= 10  rmse= 14.626380364234764\n"
     ]
    }
   ],
   "source": [
    "depth_list = [4, 5, 6, 7, 8, 9, 10]\n",
    "\n",
    "for i in depth_list:\n",
    "    print('max_depth=', i, ' rmse=', (-np.mean(cross_val_score(cb.CatBoostRegressor(n_estimators=50, verbose=False, depth=i), X, y, \n",
    "                              scoring=\"neg_mean_squared_error\", cv=5)))**0.5)"
   ]
  },
  {
   "cell_type": "code",
   "execution_count": 97,
   "id": "5c4c0a97",
   "metadata": {},
   "outputs": [
    {
     "name": "stdout",
     "output_type": "stream",
     "text": [
      "l2_leaf_reg= 0.1  rmse= 17.707055302886445\n",
      "l2_leaf_reg= 0.2  rmse= 17.713098907050004\n",
      "l2_leaf_reg= 0.3  rmse= 17.724266537046745\n",
      "l2_leaf_reg= 0.5  rmse= 17.742025792750265\n",
      "l2_leaf_reg= 0.7  rmse= 17.771489272337835\n",
      "l2_leaf_reg= 1  rmse= 17.818828891080067\n",
      "l2_leaf_reg= 2  rmse= 17.86658500121832\n",
      "l2_leaf_reg= 3  rmse= 17.91324650512669\n"
     ]
    }
   ],
   "source": [
    "l2_leaf_reg_list = [0.1, 0.2, 0.3, 0.5, 0.7, 1, 2, 3]\n",
    "\n",
    "for i in l2_leaf_reg_list:\n",
    "    print('l2_leaf_reg=', i, ' rmse=' , (-np.mean(cross_val_score(cb.CatBoostRegressor(n_estimators=50, verbose=False, l2_leaf_reg=i), X, y, \n",
    "                              scoring=\"neg_mean_squared_error\", cv=5)))**0.5)"
   ]
  },
  {
   "cell_type": "code",
   "execution_count": 103,
   "id": "d30347bb",
   "metadata": {},
   "outputs": [
    {
     "name": "stdout",
     "output_type": "stream",
     "text": [
      "bootstrap_type= Bayesian  rmse= 14.835920407511292\n",
      "bootstrap_type= Bernoulli  rmse= 14.541478628846484\n",
      "bootstrap_type= MVS  rmse= 14.563269803950776\n",
      "bootstrap_type= No  rmse= 14.692186997123546\n"
     ]
    }
   ],
   "source": [
    "bootstrap_type_list = ['Bayesian' ,'Bernoulli' ,'MVS' ,'No']\n",
    "\n",
    "for i in bootstrap_type_list:\n",
    "    print('bootstrap_type=', i, ' rmse=' , (-np.mean(cross_val_score(cb.CatBoostRegressor(bootstrap_type=i,n_estimators=50,depth=9, \n",
    "                                                                                          verbose=False), \n",
    "                                                                     X, y, scoring=\"neg_mean_squared_error\", cv=5)))**0.5)"
   ]
  },
  {
   "cell_type": "markdown",
   "id": "b84ac985",
   "metadata": {},
   "source": [
    "Гиперпараметр, который улучшил результат на CatBoost - это depth=9. Посмотрим, какой результат покажет RandomForest с этим параметром.\n"
   ]
  },
  {
   "cell_type": "code",
   "execution_count": 106,
   "id": "03c8f814",
   "metadata": {},
   "outputs": [
    {
     "name": "stdout",
     "output_type": "stream",
     "text": [
      "RMSE при использовании RandomForestRegressor: 16.21733196420093\n"
     ]
    }
   ],
   "source": [
    "print('RMSE при использовании RandomForestRegressor:',\n",
    "    (-np.mean(cross_val_score(RandomForestRegressor(n_estimators=50, max_depth=9), X, y, scoring=\"neg_mean_squared_error\", cv=5)))**0.5)"
   ]
  },
  {
   "cell_type": "markdown",
   "id": "57cf09cb",
   "metadata": {},
   "source": [
    "### Итог:\n"
   ]
  },
  {
   "cell_type": "markdown",
   "id": "3941227d",
   "metadata": {},
   "source": [
    "Лучший результат RMSE = 14.07 (на RandomForestRegressor с параметрами по умолчанию). Но практически такой же результат (14.17) на линейной регрессии после подбора гиперпараметров."
   ]
  }
 ],
 "metadata": {
  "kernelspec": {
   "display_name": "Python 3 (ipykernel)",
   "language": "python",
   "name": "python3"
  },
  "language_info": {
   "codemirror_mode": {
    "name": "ipython",
    "version": 3
   },
   "file_extension": ".py",
   "mimetype": "text/x-python",
   "name": "python",
   "nbconvert_exporter": "python",
   "pygments_lexer": "ipython3",
   "version": "3.9.7"
  }
 },
 "nbformat": 4,
 "nbformat_minor": 5
}
